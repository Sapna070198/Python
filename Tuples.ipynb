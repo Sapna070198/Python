{
  "nbformat": 4,
  "nbformat_minor": 0,
  "metadata": {
    "colab": {
      "name": "Tuples.ipynb",
      "provenance": []
    },
    "kernelspec": {
      "name": "python3",
      "display_name": "Python 3"
    }
  },
  "cells": [
    {
      "cell_type": "markdown",
      "metadata": {
        "id": "9RnMIAfwA_H1",
        "colab_type": "text"
      },
      "source": [
        "## Tuples"
      ]
    },
    {
      "cell_type": "markdown",
      "metadata": {
        "id": "zgS4lUjTXWe7",
        "colab_type": "text"
      },
      "source": [
        "## Tuples"
      ]
    },
    {
      "cell_type": "markdown",
      "metadata": {
        "id": "Lw7TOzJR7hzV",
        "colab_type": "text"
      },
      "source": [
        "## Tuples\n",
        "A tuple in Python is similar to a list. The difference is that it is unchangeable.\n",
        "\n",
        "### Creating a Tuple\n",
        "A tuple is created by placing all the items (elements) inside parentheses (), separated by commas.\n",
        "\n",
        "A tuple can have any number of items and they may be of different types (integer, float, list, string, etc.)."
      ]
    },
    {
      "cell_type": "code",
      "metadata": {
        "id": "97ZGaoaTA3pf",
        "colab_type": "code",
        "colab": {
          "base_uri": "https://localhost:8080/",
          "height": 51
        },
        "outputId": "6e66e677-d666-4b56-ae1b-6d71412b2f3a"
      },
      "source": [
        "#empty tuple\n",
        "t = () \n",
        "print(type(t))\n",
        "print(t)"
      ],
      "execution_count": null,
      "outputs": [
        {
          "output_type": "stream",
          "text": [
            "<class 'tuple'>\n",
            "()\n"
          ],
          "name": "stdout"
        }
      ]
    },
    {
      "cell_type": "code",
      "metadata": {
        "id": "cWsAfKAK-NPG",
        "colab_type": "code",
        "colab": {}
      },
      "source": [
        ""
      ],
      "execution_count": null,
      "outputs": []
    },
    {
      "cell_type": "code",
      "metadata": {
        "id": "1mtK1qKy9nmE",
        "colab_type": "code",
        "colab": {
          "base_uri": "https://localhost:8080/",
          "height": 51
        },
        "outputId": "aa09bf20-04fd-4d52-ef50-f9f20ce3e974"
      },
      "source": [
        "# having one element\n",
        "\n",
        "# Not a tuple\n",
        "t = (2)\n",
        "print(type(t))\n",
        "\n",
        "t1 = (2,)   \n",
        "print(type(t1))"
      ],
      "execution_count": null,
      "outputs": [
        {
          "output_type": "stream",
          "text": [
            "<class 'int'>\n",
            "<class 'tuple'>\n"
          ],
          "name": "stdout"
        }
      ]
    },
    {
      "cell_type": "code",
      "metadata": {
        "id": "rNNiz1iW-Dqs",
        "colab_type": "code",
        "colab": {
          "base_uri": "https://localhost:8080/",
          "height": 34
        },
        "outputId": "bf6fec65-bb73-4e9b-a879-29c45e75cf0c"
      },
      "source": [
        "# having integers\n",
        "t2 = (11,342,54,67)\n",
        "t2"
      ],
      "execution_count": null,
      "outputs": [
        {
          "output_type": "execute_result",
          "data": {
            "text/plain": [
              "(11, 342, 54, 67)"
            ]
          },
          "metadata": {
            "tags": []
          },
          "execution_count": 9
        }
      ]
    },
    {
      "cell_type": "code",
      "metadata": {
        "id": "e0TMpE2F-yvs",
        "colab_type": "code",
        "colab": {
          "base_uri": "https://localhost:8080/",
          "height": 34
        },
        "outputId": "507abbb0-7f57-421a-9f93-9e341363431e"
      },
      "source": [
        "# tubple with mixed datatype\n",
        "mix = (12, 'A', 'lsdkfkf', 26.54, 6+7j, '')\n",
        "mix"
      ],
      "execution_count": null,
      "outputs": [
        {
          "output_type": "execute_result",
          "data": {
            "text/plain": [
              "(12, 'A', 'lsdkfkf', 26.54, (6+7j), '')"
            ]
          },
          "metadata": {
            "tags": []
          },
          "execution_count": 11
        }
      ]
    },
    {
      "cell_type": "code",
      "metadata": {
        "id": "2pXOk1zf_PRe",
        "colab_type": "code",
        "colab": {
          "base_uri": "https://localhost:8080/",
          "height": 34
        },
        "outputId": "b8bbbe83-0a54-47f4-d8d3-78fa896e28d2"
      },
      "source": [
        "# nested tuples\n",
        "nt = ('ajdah', [2,4,'B'],(76.4,'S',64))\n",
        "nt"
      ],
      "execution_count": null,
      "outputs": [
        {
          "output_type": "execute_result",
          "data": {
            "text/plain": [
              "('ajdah', [2, 4, 'B'], (76.4, 'S', 64))"
            ]
          },
          "metadata": {
            "tags": []
          },
          "execution_count": 12
        }
      ]
    },
    {
      "cell_type": "markdown",
      "metadata": {
        "id": "oX1N_QsZ_stY",
        "colab_type": "text"
      },
      "source": [
        "A tuple can also be created without using parentheses. This is known as tuple packing."
      ]
    },
    {
      "cell_type": "code",
      "metadata": {
        "id": "IpQlTLr__kB2",
        "colab_type": "code",
        "colab": {
          "base_uri": "https://localhost:8080/",
          "height": 34
        },
        "outputId": "43a38ba4-4567-4fff-af7c-ec25cd27e956"
      },
      "source": [
        "my_tuple = 23, 43.5, 'Dream'\n",
        "print(my_tuple)"
      ],
      "execution_count": null,
      "outputs": [
        {
          "output_type": "stream",
          "text": [
            "(23, 43.5, 'Dream')\n"
          ],
          "name": "stdout"
        }
      ]
    },
    {
      "cell_type": "code",
      "metadata": {
        "id": "SFgH_H2G_9ao",
        "colab_type": "code",
        "colab": {
          "base_uri": "https://localhost:8080/",
          "height": 68
        },
        "outputId": "d1aa95a0-0d4a-4e7b-e4a3-3f690ad69b71"
      },
      "source": [
        "# tuple unpacking\n",
        "a, b, c = my_tuple\n",
        "print(\"a = \", a)\n",
        "print(\"b = \", b)\n",
        "print(\"c = \", c)"
      ],
      "execution_count": null,
      "outputs": [
        {
          "output_type": "stream",
          "text": [
            "a =  23\n",
            "b =  43.5\n",
            "c =  Dream\n"
          ],
          "name": "stdout"
        }
      ]
    },
    {
      "cell_type": "markdown",
      "metadata": {
        "id": "m3uJ9cXKYrgO",
        "colab_type": "text"
      },
      "source": [
        "### The tuple() Constructor :\n",
        "It is also possible to use the tuple() constructor to make a tuple.\n"
      ]
    },
    {
      "cell_type": "code",
      "metadata": {
        "id": "dSnp2hXWYq3M",
        "colab_type": "code",
        "colab": {
          "base_uri": "https://localhost:8080/",
          "height": 34
        },
        "outputId": "c308a02d-e1c8-49a0-8207-2d00df8b316d"
      },
      "source": [
        "tp = tuple((1,2,3,4))\n",
        "tp"
      ],
      "execution_count": null,
      "outputs": [
        {
          "output_type": "execute_result",
          "data": {
            "text/plain": [
              "(1, 2, 3, 4)"
            ]
          },
          "metadata": {
            "tags": []
          },
          "execution_count": 74
        }
      ]
    },
    {
      "cell_type": "code",
      "metadata": {
        "id": "QaqNIUDUYqfk",
        "colab_type": "code",
        "colab": {
          "base_uri": "https://localhost:8080/",
          "height": 34
        },
        "outputId": "e5b3ca56-413d-412a-c370-a61505edd2aa"
      },
      "source": [
        "tp1 = tuple([6,3,1,6])\n",
        "tp1"
      ],
      "execution_count": null,
      "outputs": [
        {
          "output_type": "execute_result",
          "data": {
            "text/plain": [
              "(6, 3, 1, 6)"
            ]
          },
          "metadata": {
            "tags": []
          },
          "execution_count": 76
        }
      ]
    },
    {
      "cell_type": "markdown",
      "metadata": {
        "id": "N794vvYfCvCq",
        "colab_type": "text"
      },
      "source": [
        "Access Tuple Elements\n",
        "There are various ways in which we can access the elements of a tuple.\n",
        "\n",
        "1. Indexing"
      ]
    },
    {
      "cell_type": "code",
      "metadata": {
        "id": "N0L9I1MuAMPI",
        "colab_type": "code",
        "colab": {
          "base_uri": "https://localhost:8080/",
          "height": 51
        },
        "outputId": "bd1f36fb-199e-45b2-f2f7-d78acaa47178"
      },
      "source": [
        "mix = (12, 'A', 'lsdkfkf', 26.54, 6+7j)\n",
        "# mix[0] = 12\n",
        "# mix[1] = 'A'\n",
        "# mix[2] = 'lsdkfkf'\n",
        "# mix[3] = 26.54\n",
        "# mix[4] = 6+7j\n",
        "\n",
        "print(mix[1])\n",
        "print(mix[4])"
      ],
      "execution_count": null,
      "outputs": [
        {
          "output_type": "stream",
          "text": [
            "A\n",
            "(6+7j)\n"
          ],
          "name": "stdout"
        }
      ]
    },
    {
      "cell_type": "code",
      "metadata": {
        "id": "lq76-N0gEQKm",
        "colab_type": "code",
        "colab": {
          "base_uri": "https://localhost:8080/",
          "height": 85
        },
        "outputId": "f90da4f5-7bac-4f87-97f0-5fdf85597f58"
      },
      "source": [
        "nested_t = (24, 5, 'A', 'B', ['abc','def','sja'], (1,3,5))\n",
        "\n",
        "print(nested_t[0])\n",
        "print(nested_t[3])\n",
        "print(nested_t[4])\n",
        "print(nested_t[5])"
      ],
      "execution_count": null,
      "outputs": [
        {
          "output_type": "stream",
          "text": [
            "24\n",
            "B\n",
            "['abc', 'def', 'sja']\n",
            "(1, 3, 5)\n"
          ],
          "name": "stdout"
        }
      ]
    },
    {
      "cell_type": "code",
      "metadata": {
        "id": "bkzRx5pNE_8v",
        "colab_type": "code",
        "colab": {
          "base_uri": "https://localhost:8080/",
          "height": 51
        },
        "outputId": "8c04e669-7115-4513-91c0-7ce99aec9d03"
      },
      "source": [
        "print(nested_t[4][2])\n",
        "print(nested_t[5][2])"
      ],
      "execution_count": null,
      "outputs": [
        {
          "output_type": "stream",
          "text": [
            "sja\n",
            "5\n"
          ],
          "name": "stdout"
        }
      ]
    },
    {
      "cell_type": "code",
      "metadata": {
        "id": "zuZd6xrMFjnf",
        "colab_type": "code",
        "colab": {}
      },
      "source": [
        ""
      ],
      "execution_count": null,
      "outputs": []
    },
    {
      "cell_type": "markdown",
      "metadata": {
        "id": "iUPVnWXaEC_J",
        "colab_type": "text"
      },
      "source": [
        "2. Negative Indexing\n",
        "\n",
        "Python allows negative indexing for its sequences.\n",
        "\n",
        "The index of -1 refers to the last item, -2 to the second last item and so on."
      ]
    },
    {
      "cell_type": "code",
      "metadata": {
        "id": "pc_-EghvDI-Z",
        "colab_type": "code",
        "colab": {
          "base_uri": "https://localhost:8080/",
          "height": 34
        },
        "outputId": "85af3a84-bb37-4995-ecd7-ca73d3ddcd44"
      },
      "source": [
        "nested_t"
      ],
      "execution_count": null,
      "outputs": [
        {
          "output_type": "execute_result",
          "data": {
            "text/plain": [
              "(24, 5, 'A', 'B', ['abc', 'def', 'sja'], (1, 3, 5))"
            ]
          },
          "metadata": {
            "tags": []
          },
          "execution_count": 29
        }
      ]
    },
    {
      "cell_type": "code",
      "metadata": {
        "id": "9s02CgIRGDE2",
        "colab_type": "code",
        "colab": {
          "base_uri": "https://localhost:8080/",
          "height": 34
        },
        "outputId": "8a8f7e0f-f7d1-4245-e4d8-e894a44561db"
      },
      "source": [
        "nested_t[-1]"
      ],
      "execution_count": null,
      "outputs": [
        {
          "output_type": "execute_result",
          "data": {
            "text/plain": [
              "(1, 3, 5)"
            ]
          },
          "metadata": {
            "tags": []
          },
          "execution_count": 30
        }
      ]
    },
    {
      "cell_type": "code",
      "metadata": {
        "id": "sKeasjxUGF_8",
        "colab_type": "code",
        "colab": {
          "base_uri": "https://localhost:8080/",
          "height": 35
        },
        "outputId": "448b2b4b-2671-46e6-afee-842638a42bcf"
      },
      "source": [
        "nested_t[-3]"
      ],
      "execution_count": null,
      "outputs": [
        {
          "output_type": "execute_result",
          "data": {
            "application/vnd.google.colaboratory.intrinsic+json": {
              "type": "string"
            },
            "text/plain": [
              "'B'"
            ]
          },
          "metadata": {
            "tags": []
          },
          "execution_count": 31
        }
      ]
    },
    {
      "cell_type": "markdown",
      "metadata": {
        "id": "G9J9DYNRGTJr",
        "colab_type": "text"
      },
      "source": [
        "3. Slicing\n",
        "\n",
        "We can access a range of items in a tuple by using the slicing operator colon :"
      ]
    },
    {
      "cell_type": "code",
      "metadata": {
        "id": "qj_5SYcEGJEi",
        "colab_type": "code",
        "colab": {
          "base_uri": "https://localhost:8080/",
          "height": 34
        },
        "outputId": "29e88f11-268b-44ba-c47f-3703c89ab413"
      },
      "source": [
        "nested_t"
      ],
      "execution_count": null,
      "outputs": [
        {
          "output_type": "execute_result",
          "data": {
            "text/plain": [
              "(24, 5, 'A', 'B', ['abc', 'def', 'sja'], (1, 3, 5))"
            ]
          },
          "metadata": {
            "tags": []
          },
          "execution_count": 32
        }
      ]
    },
    {
      "cell_type": "code",
      "metadata": {
        "id": "AthIDDAtGY2T",
        "colab_type": "code",
        "colab": {
          "base_uri": "https://localhost:8080/",
          "height": 34
        },
        "outputId": "da3c8cec-08f7-40b1-c3db-3ec5f33e6d73"
      },
      "source": [
        "nested_t[::]"
      ],
      "execution_count": null,
      "outputs": [
        {
          "output_type": "execute_result",
          "data": {
            "text/plain": [
              "(24, 5, 'A', 'B', ['abc', 'def', 'sja'], (1, 3, 5))"
            ]
          },
          "metadata": {
            "tags": []
          },
          "execution_count": 33
        }
      ]
    },
    {
      "cell_type": "code",
      "metadata": {
        "id": "tTitdHGvGby3",
        "colab_type": "code",
        "colab": {
          "base_uri": "https://localhost:8080/",
          "height": 34
        },
        "outputId": "3defca43-9834-4c87-a654-cf55b5cfa3d0"
      },
      "source": [
        "nested_t[1:]"
      ],
      "execution_count": null,
      "outputs": [
        {
          "output_type": "execute_result",
          "data": {
            "text/plain": [
              "(5, 'A', 'B', ['abc', 'def', 'sja'], (1, 3, 5))"
            ]
          },
          "metadata": {
            "tags": []
          },
          "execution_count": 34
        }
      ]
    },
    {
      "cell_type": "code",
      "metadata": {
        "id": "dTFfc0lUGe-_",
        "colab_type": "code",
        "colab": {
          "base_uri": "https://localhost:8080/",
          "height": 34
        },
        "outputId": "89b92a63-c8ed-41b3-f965-dfbbea99b65e"
      },
      "source": [
        "nested_t[1:5]"
      ],
      "execution_count": null,
      "outputs": [
        {
          "output_type": "execute_result",
          "data": {
            "text/plain": [
              "(5, 'A', 'B', ['abc', 'def', 'sja'])"
            ]
          },
          "metadata": {
            "tags": []
          },
          "execution_count": 36
        }
      ]
    },
    {
      "cell_type": "code",
      "metadata": {
        "id": "cuy9SKpFGjEl",
        "colab_type": "code",
        "colab": {
          "base_uri": "https://localhost:8080/",
          "height": 34
        },
        "outputId": "b6b943b7-63ad-4c5f-da16-08fb85995b13"
      },
      "source": [
        "nested_t[:5]"
      ],
      "execution_count": null,
      "outputs": [
        {
          "output_type": "execute_result",
          "data": {
            "text/plain": [
              "(24, 5, 'A', 'B', ['abc', 'def', 'sja'])"
            ]
          },
          "metadata": {
            "tags": []
          },
          "execution_count": 37
        }
      ]
    },
    {
      "cell_type": "markdown",
      "metadata": {
        "id": "NeW8pqTeG8mC",
        "colab_type": "text"
      },
      "source": [
        "Negative slicing"
      ]
    },
    {
      "cell_type": "code",
      "metadata": {
        "id": "Cfi1eBUVGxEt",
        "colab_type": "code",
        "colab": {
          "base_uri": "https://localhost:8080/",
          "height": 34
        },
        "outputId": "1cda775c-4327-4588-becf-58d1b409322d"
      },
      "source": [
        "nested_t[::-1]"
      ],
      "execution_count": null,
      "outputs": [
        {
          "output_type": "execute_result",
          "data": {
            "text/plain": [
              "((1, 3, 5), ['abc', 'def', 'sja'], 'B', 'A', 5, 24)"
            ]
          },
          "metadata": {
            "tags": []
          },
          "execution_count": 39
        }
      ]
    },
    {
      "cell_type": "code",
      "metadata": {
        "id": "yogz6bYtHDjU",
        "colab_type": "code",
        "colab": {
          "base_uri": "https://localhost:8080/",
          "height": 34
        },
        "outputId": "59494563-7613-4f05-a887-8096fde94ce8"
      },
      "source": [
        "nested_t[-3::-1]"
      ],
      "execution_count": null,
      "outputs": [
        {
          "output_type": "execute_result",
          "data": {
            "text/plain": [
              "('B', 'A', 5, 24)"
            ]
          },
          "metadata": {
            "tags": []
          },
          "execution_count": 40
        }
      ]
    },
    {
      "cell_type": "markdown",
      "metadata": {
        "id": "x_M58_BZIxe7",
        "colab_type": "text"
      },
      "source": [
        "### Changing a Tuple\n",
        "\n",
        "Unlike lists, tuples are immutable.\n",
        "\n",
        "This means that elements of a tuple cannot be changed once they have been assigned. But, if the element is itself a mutable data type like list, its nested items can be changed.\n",
        "\n",
        "We can also assign a tuple to different values (reassignment)."
      ]
    },
    {
      "cell_type": "code",
      "metadata": {
        "id": "2IE5BSGlQhsr",
        "colab_type": "code",
        "colab": {}
      },
      "source": [
        ""
      ],
      "execution_count": null,
      "outputs": []
    },
    {
      "cell_type": "code",
      "metadata": {
        "id": "ys_qdUM0IYuw",
        "colab_type": "code",
        "colab": {}
      },
      "source": [
        "my_tuple = (112, 45, 53, (2, 5, 'A', 'B'),[10, 54, 6, 74])\n"
      ],
      "execution_count": null,
      "outputs": []
    },
    {
      "cell_type": "code",
      "metadata": {
        "id": "D5w6hnzyQFpo",
        "colab_type": "code",
        "colab": {
          "base_uri": "https://localhost:8080/",
          "height": 34
        },
        "outputId": "544d9ba9-1d50-4d71-86ed-c1637012e4b4"
      },
      "source": [
        "my_tuple[1]"
      ],
      "execution_count": null,
      "outputs": [
        {
          "output_type": "execute_result",
          "data": {
            "text/plain": [
              "45"
            ]
          },
          "metadata": {
            "tags": []
          },
          "execution_count": 42
        }
      ]
    },
    {
      "cell_type": "code",
      "metadata": {
        "id": "zwy2IU9KQJS8",
        "colab_type": "code",
        "colab": {}
      },
      "source": [
        "#TypeError: 'tuple' object does not support item assignment\n",
        "#my_tuple[1] = 100"
      ],
      "execution_count": null,
      "outputs": []
    },
    {
      "cell_type": "code",
      "metadata": {
        "id": "fGLY9Sm8RaZC",
        "colab_type": "code",
        "colab": {}
      },
      "source": [
        "# TypeError: 'tuple' object does not support item assignment\n",
        "# print(my_tuple[3])\n",
        "# print(my_tuple[3][1])\n",
        "\n",
        "# my_tuple[3][0] = 's'"
      ],
      "execution_count": null,
      "outputs": []
    },
    {
      "cell_type": "code",
      "metadata": {
        "id": "fd8SSd7mQQOb",
        "colab_type": "code",
        "colab": {
          "base_uri": "https://localhost:8080/",
          "height": 68
        },
        "outputId": "ecef4a8c-5b8f-4e3a-e616-5bee9f7407a5"
      },
      "source": [
        "print(my_tuple[4])\n",
        "print(my_tuple[4][1])\n",
        "\n",
        "my_tuple[4][1] = 'ABC'\n",
        "my_tuple[4][3] = 'ssss'\n",
        "print(my_tuple)"
      ],
      "execution_count": null,
      "outputs": [
        {
          "output_type": "stream",
          "text": [
            "[10, 54, 'ABC', 74]\n",
            "54\n",
            "(112, 45, 53, (2, 5, 'A', 'B'), [10, 'ABC', 'ABC', 'ssss'])\n"
          ],
          "name": "stdout"
        }
      ]
    },
    {
      "cell_type": "markdown",
      "metadata": {
        "id": "1P0ggW5PStdL",
        "colab_type": "text"
      },
      "source": [
        " We can use **+** operator to combine two tuples. This is called concatenation."
      ]
    },
    {
      "cell_type": "code",
      "metadata": {
        "id": "qjcOWMEGSscS",
        "colab_type": "code",
        "colab": {
          "base_uri": "https://localhost:8080/",
          "height": 51
        },
        "outputId": "d189be1e-78e7-4329-e646-51e3cf52ee04"
      },
      "source": [
        "t1 = (1,2,3,4)\n",
        "t2 = ('A','B','C','D')\n",
        "print(t1 + t2)\n",
        "t1[:-1]"
      ],
      "execution_count": 41,
      "outputs": [
        {
          "output_type": "stream",
          "text": [
            "(1, 2, 3, 4, 'A', 'B', 'C', 'D')\n"
          ],
          "name": "stdout"
        },
        {
          "output_type": "execute_result",
          "data": {
            "text/plain": [
              "(1, 2, 3)"
            ]
          },
          "metadata": {
            "tags": []
          },
          "execution_count": 41
        }
      ]
    },
    {
      "cell_type": "markdown",
      "metadata": {
        "id": "yqAAqvw0Tqcu",
        "colab_type": "text"
      },
      "source": [
        "We can also repeat the elements in a tuple for a given number of times using the * operator."
      ]
    },
    {
      "cell_type": "code",
      "metadata": {
        "id": "BB20w4dLQkE_",
        "colab_type": "code",
        "colab": {
          "base_uri": "https://localhost:8080/",
          "height": 34
        },
        "outputId": "1447e020-656a-48ce-d570-5d0edd521a5f"
      },
      "source": [
        "r = ('Dream ', 4) * 5\n",
        "print(r)"
      ],
      "execution_count": null,
      "outputs": [
        {
          "output_type": "stream",
          "text": [
            "('Dream ', 4, 'Dream ', 4, 'Dream ', 4, 'Dream ', 4, 'Dream ', 4)\n"
          ],
          "name": "stdout"
        }
      ]
    },
    {
      "cell_type": "markdown",
      "metadata": {
        "id": "OPxp-aIUVA5U",
        "colab_type": "text"
      },
      "source": [
        "### Deleting a Tuple\n",
        "As discussed above, we cannot change the elements in a tuple. It means that we cannot delete or remove items from a tuple.\n",
        "\n",
        "Deleting a tuple entirely, however, is possible using the keyword del."
      ]
    },
    {
      "cell_type": "code",
      "metadata": {
        "id": "Fo6MahkiUHHm",
        "colab_type": "code",
        "colab": {}
      },
      "source": [
        "# Deleting tuples\n",
        "t = (1,2,3,4,5,6)\n",
        "\n",
        "# can't delete items\n",
        "# TypeError: 'tuple' object doesn't support item deletion\n",
        "# del my_tuple[3]\n",
        "\n",
        "# Can delete an entire tuple\n",
        "del(t)\n",
        "\n",
        "# NameError: name 't' is not defined\n",
        "# print(t)"
      ],
      "execution_count": null,
      "outputs": []
    },
    {
      "cell_type": "markdown",
      "metadata": {
        "id": "S2NP9TyKWEGy",
        "colab_type": "text"
      },
      "source": [
        "### Tuple Methods\n",
        "Methods that add items or remove items are not available with tuple. \n",
        "\n",
        "Only the following two methods are available.\n",
        "- count()\n",
        "- index()\n",
        "- len()\n",
        "\n"
      ]
    },
    {
      "cell_type": "code",
      "metadata": {
        "id": "ERClCN0CWDXb",
        "colab_type": "code",
        "colab": {
          "base_uri": "https://localhost:8080/",
          "height": 68
        },
        "outputId": "51ccb56e-df87-42ea-a17d-4919cf5a31ab"
      },
      "source": [
        "my_tuple = (1,'a',2,2,'b','c','a','a')\n",
        "\n",
        "print(\"How many times 'a' in tuple :\", my_tuple.count('a'))\n",
        "print(\"How many times 'a' in tuple :\", my_tuple.count(2))\n",
        "\n",
        "# index of first index of an element\n",
        "print(\"index of 'a' :\", my_tuple.index('a'))"
      ],
      "execution_count": null,
      "outputs": [
        {
          "output_type": "stream",
          "text": [
            "How many time 'a' in tuple : 3\n",
            "How many time 'a' in tuple : 2\n",
            "index of 'a' : 1\n"
          ],
          "name": "stdout"
        }
      ]
    },
    {
      "cell_type": "code",
      "metadata": {
        "id": "YhqgMyRXVrt6",
        "colab_type": "code",
        "colab": {
          "base_uri": "https://localhost:8080/",
          "height": 34
        },
        "outputId": "1c91f64d-85af-4825-a26a-e9119f4c8dcb"
      },
      "source": [
        "# lenth of tuple\n",
        "len(my_tuple)"
      ],
      "execution_count": null,
      "outputs": [
        {
          "output_type": "execute_result",
          "data": {
            "text/plain": [
              "8"
            ]
          },
          "metadata": {
            "tags": []
          },
          "execution_count": 72
        }
      ]
    },
    {
      "cell_type": "markdown",
      "metadata": {
        "id": "rg8gAt-uZimE",
        "colab_type": "text"
      },
      "source": [
        "## Other Tuple Operations\n",
        "### 1. Tuple Membership Test\n",
        "We can test if an item exists in a tuple or not, using the keyword in."
      ]
    },
    {
      "cell_type": "code",
      "metadata": {
        "id": "ej1_Rn7sYKSp",
        "colab_type": "code",
        "colab": {
          "base_uri": "https://localhost:8080/",
          "height": 68
        },
        "outputId": "62e6480a-174a-4fab-b998-991b5976ce24"
      },
      "source": [
        "# Membership test in tuple\n",
        "Tuple = ('A', 'B', 'C', 'D','E')\n",
        "\n",
        "# In operation\n",
        "print(\"'A' is present in Tuple -->\", ('A' in Tuple))\n",
        "print(\"'Z' is present in Tuple -->\", ('Z' in Tuple))\n",
        "print(\"'D' is present in Tuple -->\", ('D' in Tuple))\n"
      ],
      "execution_count": null,
      "outputs": [
        {
          "output_type": "stream",
          "text": [
            "'A' is present in Tuple --> True\n",
            "'Z' is present in Tuple --> False\n",
            "'D' is present in Tuple --> True\n"
          ],
          "name": "stdout"
        }
      ]
    },
    {
      "cell_type": "code",
      "metadata": {
        "id": "KDUNs-xWaP7s",
        "colab_type": "code",
        "colab": {
          "base_uri": "https://localhost:8080/",
          "height": 51
        },
        "outputId": "a061235d-7d41-4bcf-f9c5-a812229f134d"
      },
      "source": [
        "# not in operation\n",
        "\n",
        "print(\"'A' is present in Tuple -->\", ('A' not in Tuple))\n",
        "print(\"'Z' is present in Tuple -->\", ('Z' not in Tuple))"
      ],
      "execution_count": null,
      "outputs": [
        {
          "output_type": "stream",
          "text": [
            "'A' is present in Tuple --> False\n",
            "'Z' is present in Tuple --> True\n"
          ],
          "name": "stdout"
        }
      ]
    },
    {
      "cell_type": "markdown",
      "metadata": {
        "id": "LNYoO1dabBcV",
        "colab_type": "text"
      },
      "source": [
        "### 2. Iterating Through a Tuple\n",
        "We can use a for loop to iterate through each item in a tuple."
      ]
    },
    {
      "cell_type": "code",
      "metadata": {
        "id": "a7FRlyMdazV0",
        "colab_type": "code",
        "colab": {
          "base_uri": "https://localhost:8080/",
          "height": 102
        },
        "outputId": "9ac1d24a-3752-465a-8dcf-425e235a7586"
      },
      "source": [
        "T = ('banana', 'mango', 'graps', 'apple', 'kiwi')\n",
        "\n",
        "for f in T:\n",
        "  print(f)"
      ],
      "execution_count": null,
      "outputs": [
        {
          "output_type": "stream",
          "text": [
            "banana\n",
            "mango\n",
            "graps\n",
            "apple\n",
            "kiwi\n"
          ],
          "name": "stdout"
        }
      ]
    },
    {
      "cell_type": "markdown",
      "metadata": {
        "id": "jG3iBBgrdNLi",
        "colab_type": "text"
      },
      "source": [
        "# Programm"
      ]
    },
    {
      "cell_type": "markdown",
      "metadata": {
        "id": "aH64D54_dSAr",
        "colab_type": "text"
      },
      "source": [
        "### 1. Write a Python program to add an item in a tuple."
      ]
    },
    {
      "cell_type": "code",
      "metadata": {
        "id": "8mptIue7bcxP",
        "colab_type": "code",
        "colab": {
          "base_uri": "https://localhost:8080/",
          "height": 68
        },
        "outputId": "390605a0-9450-4270-fd16-effd7c3dae3e"
      },
      "source": [
        "t = (1, 2)\n",
        "print(t)\n",
        "\n",
        "new = t + (3,)\n",
        "print(new)\n",
        "\n",
        "t1 = (5,6,7,8,9)\n",
        "\n",
        "new = t + t1[2:]\n",
        "print(new)\n"
      ],
      "execution_count": null,
      "outputs": [
        {
          "output_type": "stream",
          "text": [
            "(1, 2)\n",
            "(1, 2, 3)\n",
            "(1, 2, 7, 8, 9)\n"
          ],
          "name": "stdout"
        }
      ]
    },
    {
      "cell_type": "markdown",
      "metadata": {
        "id": "ZS5nQgx9ejdl",
        "colab_type": "text"
      },
      "source": [
        "### 2. Write a Python program to convert a tuple to a string."
      ]
    },
    {
      "cell_type": "code",
      "metadata": {
        "id": "0zBXWwQqeFPe",
        "colab_type": "code",
        "colab": {
          "base_uri": "https://localhost:8080/",
          "height": 85
        },
        "outputId": "5b94f588-66fc-4908-aed8-5e15bb88c40e"
      },
      "source": [
        "t = ('D','r','e','a','m')\n",
        "print(t)\n",
        "print(type(t))\n",
        "\n",
        "t = \"\".join(t)\n",
        "print(t)\n",
        "type(t) "
      ],
      "execution_count": null,
      "outputs": [
        {
          "output_type": "stream",
          "text": [
            "('D', 'r', 'e', 'a', 'm')\n",
            "<class 'tuple'>\n",
            "Dream\n"
          ],
          "name": "stdout"
        },
        {
          "output_type": "execute_result",
          "data": {
            "text/plain": [
              "str"
            ]
          },
          "metadata": {
            "tags": []
          },
          "execution_count": 103
        }
      ]
    },
    {
      "cell_type": "code",
      "metadata": {
        "id": "1LilSvxTfAdZ",
        "colab_type": "code",
        "colab": {
          "base_uri": "https://localhost:8080/",
          "height": 85
        },
        "outputId": "9d2d4b1c-1551-41d5-cc32-4a6560e802c6"
      },
      "source": [
        "t = ('a','b')\n",
        "print(t)\n",
        "print(type(t))\n",
        "\n",
        "s = str(t)\n",
        "print(s)\n",
        "print(type(s))\n"
      ],
      "execution_count": null,
      "outputs": [
        {
          "output_type": "stream",
          "text": [
            "('a', 'b')\n",
            "<class 'tuple'>\n",
            "('a', 'b')\n",
            "<class 'str'>\n"
          ],
          "name": "stdout"
        }
      ]
    },
    {
      "cell_type": "markdown",
      "metadata": {
        "id": "ddJPD9ygiIWi",
        "colab_type": "text"
      },
      "source": [
        "### 3. Write a Python program to get the 4th element and 4th element from last of a tuple."
      ]
    },
    {
      "cell_type": "code",
      "metadata": {
        "id": "8Ka6-EsMg9Bn",
        "colab_type": "code",
        "colab": {
          "base_uri": "https://localhost:8080/",
          "height": 51
        },
        "outputId": "eea2425b-b094-45e3-86f0-a9cf630d45ea"
      },
      "source": [
        "t = (1,2,3,4,5,6,7,8,9)\n",
        "print(\"4th element of tuple is :\", t[3])\n",
        "print(\"4th element from last of a tuple :\", t[-4])"
      ],
      "execution_count": null,
      "outputs": [
        {
          "output_type": "stream",
          "text": [
            "4th element of tuple is : 4\n",
            "4th element from last of a tuple : 6\n"
          ],
          "name": "stdout"
        }
      ]
    },
    {
      "cell_type": "markdown",
      "metadata": {
        "id": "rKqkjOmejw0n",
        "colab_type": "text"
      },
      "source": [
        "### 4. Write a Python program to find the repeated items of a tuple."
      ]
    },
    {
      "cell_type": "code",
      "metadata": {
        "id": "iMYy215jjOxd",
        "colab_type": "code",
        "colab": {
          "base_uri": "https://localhost:8080/",
          "height": 34
        },
        "outputId": "0b523092-90ba-4c82-bf6f-11c0eae2b24b"
      },
      "source": [
        "t = (1,2,4,63,2,2,5,5,7,1,1,14,43,7,8,5,4,4,4,4,30,6,10,10)\n",
        "\n",
        "\n",
        "for i in t:\n",
        "  if t.count(i)>1:\n",
        "    print(i,end=',')"
      ],
      "execution_count": null,
      "outputs": [
        {
          "output_type": "stream",
          "text": [
            "1,2,4,2,2,5,5,7,1,1,7,5,4,4,4,4,10,10,"
          ],
          "name": "stdout"
        }
      ]
    },
    {
      "cell_type": "markdown",
      "metadata": {
        "id": "R8Oj3VmhHxKH",
        "colab_type": "text"
      },
      "source": [
        "### 5.  Write a Python program to check whether an element exists within a tuple."
      ]
    },
    {
      "cell_type": "code",
      "metadata": {
        "id": "WUn5ME-AkStq",
        "colab_type": "code",
        "colab": {
          "base_uri": "https://localhost:8080/",
          "height": 51
        },
        "outputId": "93987696-c65c-4b34-993e-ff2804766903"
      },
      "source": [
        "t = ('a','b','c','d','e')\n",
        "c = input()\n",
        "\n",
        "if c in t:\n",
        "  print('exist')\n",
        "else:\n",
        "  print('not exist')  "
      ],
      "execution_count": 6,
      "outputs": [
        {
          "output_type": "stream",
          "text": [
            "w\n",
            "not exist\n"
          ],
          "name": "stdout"
        }
      ]
    },
    {
      "cell_type": "markdown",
      "metadata": {
        "id": "WSu5q1LiJrAj",
        "colab_type": "text"
      },
      "source": [
        "### 6. Write a Python program to remove an item from a tuple."
      ]
    },
    {
      "cell_type": "markdown",
      "metadata": {
        "id": "P5rBMFrHKxs7",
        "colab_type": "text"
      },
      "source": [
        "### 7. Write a Python program to convert a list of tuples into a dictionary"
      ]
    },
    {
      "cell_type": "code",
      "metadata": {
        "id": "3w3Yc4a-IU3x",
        "colab_type": "code",
        "colab": {
          "base_uri": "https://localhost:8080/",
          "height": 34
        },
        "outputId": "fab2105e-ce9f-499c-ed99-600a0fa02bcb"
      },
      "source": [
        "t = ((1,'A'),(2,'B'),(3,'C'))\n",
        "tuple_to_dict = {k:v for k,v in t}\n",
        "tuple_to_dict"
      ],
      "execution_count": 8,
      "outputs": [
        {
          "output_type": "execute_result",
          "data": {
            "text/plain": [
              "{1: 'A', 2: 'B', 3: 'C'}"
            ]
          },
          "metadata": {
            "tags": []
          },
          "execution_count": 8
        }
      ]
    },
    {
      "cell_type": "markdown",
      "metadata": {
        "id": "Hs41ZXBHLxBP",
        "colab_type": "text"
      },
      "source": [
        "### 8.Write a Python program to print a tuple with string formatting.\n",
        "\n",
        "Sample tuple : (100, 200, 300)\n",
        "\n",
        "\n",
        "Output : This is a tuple (100, 200, 300)"
      ]
    },
    {
      "cell_type": "code",
      "metadata": {
        "id": "ZVsMskT7LWWa",
        "colab_type": "code",
        "colab": {
          "base_uri": "https://localhost:8080/",
          "height": 34
        },
        "outputId": "f1cd4192-06a4-4ee7-9280-b20d9d19bf76"
      },
      "source": [
        "Sample_tuple = (100, 200, 300)\n",
        "print(\"This is a tuple {}\".format(Sample_tuple))"
      ],
      "execution_count": 13,
      "outputs": [
        {
          "output_type": "stream",
          "text": [
            "This is a tuple (100, 200, 300)\n"
          ],
          "name": "stdout"
        }
      ]
    },
    {
      "cell_type": "markdown",
      "metadata": {
        "id": "WoGvHgvYM61K",
        "colab_type": "text"
      },
      "source": [
        "### 9.Write a Python program to replace last value of tuples in a list. Go to the editor\n",
        "\n",
        "Sample list: [(10, 20, 40), (40, 50, 60), (70, 80, 90)]\n",
        "\n",
        "Expected Output: [(10, 20, 100), (40, 50, 100), (70, 80, 100)]"
      ]
    },
    {
      "cell_type": "code",
      "metadata": {
        "id": "troUxPh6MNSA",
        "colab_type": "code",
        "colab": {
          "base_uri": "https://localhost:8080/",
          "height": 34
        },
        "outputId": "886aaac9-8955-4e90-8471-2e1ed6ce94a0"
      },
      "source": [
        "Sample_list= [(10, 20, 40), (40, 50, 60), (70, 80, 90)]\n",
        "l = []\n",
        "for i in range(len(Sample_list)):\n",
        "  l.append(list(Sample_list[i]))\n",
        "  l[i][2] = 100 \n",
        "  \n",
        "output = []   \n",
        "for i in range(len(l)):\n",
        "  t = tuple(l[i])\n",
        "  output.append(t) \n",
        "\n",
        "output  \n"
      ],
      "execution_count": 32,
      "outputs": [
        {
          "output_type": "execute_result",
          "data": {
            "text/plain": [
              "[(10, 20, 100), (40, 50, 100), (70, 80, 100)]"
            ]
          },
          "metadata": {
            "tags": []
          },
          "execution_count": 32
        }
      ]
    },
    {
      "cell_type": "code",
      "metadata": {
        "id": "AcyrI3EPPsa1",
        "colab_type": "code",
        "colab": {
          "base_uri": "https://localhost:8080/",
          "height": 34
        },
        "outputId": "387905a5-e67f-44db-a789-b71b14d2ac83"
      },
      "source": [
        "l = [(10, 20, 40), (40, 50, 60), (70, 80, 90)]\n",
        "print([t[:-1] + (100,) for t in l])\n"
      ],
      "execution_count": 33,
      "outputs": [
        {
          "output_type": "stream",
          "text": [
            "[(10, 20, 100), (40, 50, 100), (70, 80, 100)]\n"
          ],
          "name": "stdout"
        }
      ]
    },
    {
      "cell_type": "code",
      "metadata": {
        "id": "D5rC4jd5NNN3",
        "colab_type": "code",
        "colab": {
          "base_uri": "https://localhost:8080/",
          "height": 34
        },
        "outputId": "bd847089-5d71-40a3-b864-2cd013b802fe"
      },
      "source": [
        "Sample_list[1][:-1] + (100,)"
      ],
      "execution_count": 37,
      "outputs": [
        {
          "output_type": "execute_result",
          "data": {
            "text/plain": [
              "(40, 50, 100)"
            ]
          },
          "metadata": {
            "tags": []
          },
          "execution_count": 37
        }
      ]
    },
    {
      "cell_type": "markdown",
      "metadata": {
        "id": "xjforRcFRz5s",
        "colab_type": "text"
      },
      "source": [
        "### 10. Write a Python program to remove an empty tuple(s) from a list of tuples. Go to the editor\n",
        "\n",
        "Sample data: [(), (), ('',), ('a', 'b'), ('a', 'b', 'c'), ('d')]\n",
        "\n",
        "Expected output: [('',), ('a', 'b'), ('a', 'b', 'c'), 'd']"
      ]
    },
    {
      "cell_type": "code",
      "metadata": {
        "id": "JtW6JkMiN1uK",
        "colab_type": "code",
        "colab": {
          "base_uri": "https://localhost:8080/",
          "height": 34
        },
        "outputId": "aedf9012-567b-4a11-91fc-b306a9f91e5f"
      },
      "source": [
        "Sample_data = [(), (), ('',), ('a', 'b'), ('a', 'b', 'c'), ('d')]\n",
        "\n",
        "output = []\n",
        "for i in Sample_data:\n",
        "  if len(i) != 0:\n",
        "    output.append(i)\n",
        "\n",
        "output    "
      ],
      "execution_count": 48,
      "outputs": [
        {
          "output_type": "execute_result",
          "data": {
            "text/plain": [
              "[('',), ('a', 'b'), ('a', 'b', 'c'), 'd']"
            ]
          },
          "metadata": {
            "tags": []
          },
          "execution_count": 48
        }
      ]
    },
    {
      "cell_type": "code",
      "metadata": {
        "id": "ZXV6DKvrSRXw",
        "colab_type": "code",
        "colab": {
          "base_uri": "https://localhost:8080/",
          "height": 34
        },
        "outputId": "dbb1fc27-913e-47b1-d997-ab4283f50cea"
      },
      "source": [
        "[i for i in Sample_data  if i]\n",
        " "
      ],
      "execution_count": 51,
      "outputs": [
        {
          "output_type": "execute_result",
          "data": {
            "text/plain": [
              "[('',), ('a', 'b'), ('a', 'b', 'c'), 'd']"
            ]
          },
          "metadata": {
            "tags": []
          },
          "execution_count": 51
        }
      ]
    },
    {
      "cell_type": "markdown",
      "metadata": {
        "id": "YwvmcIESTtsK",
        "colab_type": "text"
      },
      "source": [
        "### 11.Write a Python program to count the elements in a list until an element is a tuple."
      ]
    },
    {
      "cell_type": "code",
      "metadata": {
        "id": "MILfr28dU2tq",
        "colab_type": "code",
        "colab": {
          "base_uri": "https://localhost:8080/",
          "height": 34
        },
        "outputId": "f25725ae-b8b9-4c34-fcc3-f8987d8258cb"
      },
      "source": [
        "lst = [1,2,3,4,5,(1,2)]\n",
        "\n",
        "cnt = 0\n",
        "for i in lst:\n",
        "  if type(i) != tuple:\n",
        "    cnt+=1  \n",
        "\n",
        "print(cnt) "
      ],
      "execution_count": 73,
      "outputs": [
        {
          "output_type": "stream",
          "text": [
            "5\n"
          ],
          "name": "stdout"
        }
      ]
    },
    {
      "cell_type": "code",
      "metadata": {
        "id": "kvhjldy5SSoP",
        "colab_type": "code",
        "colab": {
          "base_uri": "https://localhost:8080/",
          "height": 34
        },
        "outputId": "602b17ce-ba55-4b84-a90e-901185b27032"
      },
      "source": [
        "lst = [1,2,3,4,5,(1,2)]\n",
        "\n",
        "cnt = 0\n",
        "for i in lst:\n",
        "  if isinstance(i, tuple):\n",
        "    break\n",
        "  cnt+=1  \n",
        "\n",
        "print(cnt)      "
      ],
      "execution_count": 74,
      "outputs": [
        {
          "output_type": "stream",
          "text": [
            "5\n"
          ],
          "name": "stdout"
        }
      ]
    }
  ]
}