{
  "nbformat": 4,
  "nbformat_minor": 0,
  "metadata": {
    "colab": {
      "name": "Copy of Python basics.ipynb",
      "provenance": [],
      "collapsed_sections": []
    },
    "kernelspec": {
      "name": "python3",
      "display_name": "Python 3"
    }
  },
  "cells": [
    {
      "cell_type": "markdown",
      "metadata": {
        "id": "nRx8VYWjKSzP",
        "colab_type": "text"
      },
      "source": [
        "# Python\n",
        "Python is a popular programming language. It was created by Guido van Rossum, and released in 1991.\n",
        "\n",
        "### It is used for:\n",
        "\n",
        "- web development (server-side),\n",
        "- software development,\n",
        "- mathematics,\n",
        "- system scripting.\n",
        "\n"
      ]
    },
    {
      "cell_type": "code",
      "metadata": {
        "id": "e0kBP6WfJWSl",
        "colab_type": "code",
        "colab": {}
      },
      "source": [
        ""
      ],
      "execution_count": 0,
      "outputs": []
    },
    {
      "cell_type": "markdown",
      "metadata": {
        "id": "4ZIvyv61LEnU",
        "colab_type": "text"
      },
      "source": [
        "Comments :--\n",
        "- Comments can be used to explain Python code.\n",
        "\n",
        "- Comments can be used to make the code more readable.\n",
        "\n",
        "- Comments can be used to prevent execution when testing code.\n",
        "\n",
        "there are two types of comment-----"
      ]
    },
    {
      "cell_type": "code",
      "metadata": {
        "id": "BWnGGjabLHlk",
        "colab_type": "code",
        "colab": {}
      },
      "source": [
        "#Ths is a single line comment"
      ],
      "execution_count": 0,
      "outputs": []
    },
    {
      "cell_type": "code",
      "metadata": {
        "id": "t4xqA-E5LirY",
        "colab_type": "code",
        "outputId": "88f3197d-feb8-4f70-9378-337c81bd103b",
        "colab": {
          "base_uri": "https://localhost:8080/",
          "height": 34
        }
      },
      "source": [
        "'''This is a  multiline comment'''"
      ],
      "execution_count": 3,
      "outputs": [
        {
          "output_type": "execute_result",
          "data": {
            "text/plain": [
              "'This is a  multiline comment'"
            ]
          },
          "metadata": {
            "tags": []
          },
          "execution_count": 3
        }
      ]
    },
    {
      "cell_type": "markdown",
      "metadata": {
        "id": "u5TGOF4vMF3-",
        "colab_type": "text"
      },
      "source": [
        "### Variables :--\n",
        "- Variables are containers for storing data values.\n",
        "- A variable is created the moment you first assign a value to it."
      ]
    },
    {
      "cell_type": "code",
      "metadata": {
        "id": "_lAFY4GGL7Qm",
        "colab_type": "code",
        "outputId": "54fa7e4b-abb8-4e1c-ea30-ccd21f0a4512",
        "colab": {
          "base_uri": "https://localhost:8080/",
          "height": 68
        }
      },
      "source": [
        "#Unlike other programming languages, Python has no command for declaring a variable.\n",
        "\n",
        "a=10\n",
        "b=20\n",
        "s='Hello World'\n",
        "\n",
        "print(a)\n",
        "print(b)\n",
        "print(s)"
      ],
      "execution_count": 0,
      "outputs": [
        {
          "output_type": "stream",
          "text": [
            "10\n",
            "20\n",
            "Hello World\n"
          ],
          "name": "stdout"
        }
      ]
    },
    {
      "cell_type": "code",
      "metadata": {
        "id": "sK1Ul20AMkcq",
        "colab_type": "code",
        "colab": {}
      },
      "source": [
        "s='hello'\n",
        "s=\"hello\"\n",
        "\n",
        "#both are same"
      ],
      "execution_count": 0,
      "outputs": []
    },
    {
      "cell_type": "code",
      "metadata": {
        "id": "0LBylOy8M7LE",
        "colab_type": "code",
        "outputId": "0678ad8f-9aa6-4d36-9a41-84c64f92b187",
        "colab": {
          "base_uri": "https://localhost:8080/",
          "height": 68
        }
      },
      "source": [
        "#Assign Value to Multiple Variables\n",
        "\n",
        "a,b,c = \"Orange\" ,\"Banana\", \"Cherry\"\n",
        "print(a)\n",
        "print(b)\n",
        "print(c)"
      ],
      "execution_count": 0,
      "outputs": [
        {
          "output_type": "stream",
          "text": [
            "Orange\n",
            "Banana\n",
            "Cherry\n"
          ],
          "name": "stdout"
        }
      ]
    },
    {
      "cell_type": "code",
      "metadata": {
        "id": "XJv8tFuSOeUY",
        "colab_type": "code",
        "outputId": "2758152d-9ed9-43d4-bea1-ac888bf75bb8",
        "colab": {
          "base_uri": "https://localhost:8080/",
          "height": 68
        }
      },
      "source": [
        "#same value to multiple variables\n",
        "x=y=z=\"orange\"\n",
        "print(x)\n",
        "print(y)\n",
        "print(z)"
      ],
      "execution_count": 0,
      "outputs": [
        {
          "output_type": "stream",
          "text": [
            "orange\n",
            "orange\n",
            "orange\n"
          ],
          "name": "stdout"
        }
      ]
    },
    {
      "cell_type": "code",
      "metadata": {
        "id": "NMFI2gXgOrDR",
        "colab_type": "code",
        "outputId": "6ffcc263-e9cb-4045-fcc3-0953420536ab",
        "colab": {
          "base_uri": "https://localhost:8080/",
          "height": 34
        }
      },
      "source": [
        "x= \"Hello \"\n",
        "y = \"world\"\n",
        "z = x+y\n",
        "print(z)"
      ],
      "execution_count": 0,
      "outputs": [
        {
          "output_type": "stream",
          "text": [
            "Hello world\n"
          ],
          "name": "stdout"
        }
      ]
    },
    {
      "cell_type": "code",
      "metadata": {
        "id": "1QtyvAwUPeYW",
        "colab_type": "code",
        "outputId": "ef2fe3b7-44c7-4e07-c321-306ce79fea4c",
        "colab": {
          "base_uri": "https://localhost:8080/",
          "height": 34
        }
      },
      "source": [
        "x = 5\n",
        "y = 10\n",
        "print(x+y)"
      ],
      "execution_count": 0,
      "outputs": [
        {
          "output_type": "stream",
          "text": [
            "15\n"
          ],
          "name": "stdout"
        }
      ]
    },
    {
      "cell_type": "code",
      "metadata": {
        "id": "AsUSsnp8bqk7",
        "colab_type": "code",
        "colab": {}
      },
      "source": [
        "# x = 5\n",
        "# y ='jonh'\n",
        "# print(x + y)\n",
        "# integer and string can't concatinate\n",
        "\n",
        "# error : unsupported operand type(s) for +: 'int' and 'str'"
      ],
      "execution_count": 0,
      "outputs": []
    },
    {
      "cell_type": "code",
      "metadata": {
        "id": "6UPGP_s_b2KL",
        "colab_type": "code",
        "outputId": "d2af239d-5085-4ca7-a681-d4d34b0ed03d",
        "colab": {
          "base_uri": "https://localhost:8080/",
          "height": 34
        }
      },
      "source": [
        "#Getting the Data Type\n",
        "a = 4\n",
        "type(a)"
      ],
      "execution_count": 0,
      "outputs": [
        {
          "output_type": "execute_result",
          "data": {
            "text/plain": [
              "int"
            ]
          },
          "metadata": {
            "tags": []
          },
          "execution_count": 5
        }
      ]
    },
    {
      "cell_type": "markdown",
      "metadata": {
        "id": "sMMqfOOTdf7n",
        "colab_type": "text"
      },
      "source": [
        "Casting : also known as typecasting"
      ]
    },
    {
      "cell_type": "code",
      "metadata": {
        "id": "ZMW96k_AewXv",
        "colab_type": "code",
        "outputId": "6d34b481-efe1-4419-eb78-471b5d089b22",
        "colab": {
          "base_uri": "https://localhost:8080/",
          "height": 119
        }
      },
      "source": [
        "i = 4\n",
        "f = 4.54\n",
        "s = '6'\n",
        "\n",
        "print(i)\n",
        "print(f)\n",
        "print(s)\n",
        "\n",
        "print(type(i))\n",
        "print(type(f))\n",
        "print(type(s))\n"
      ],
      "execution_count": 0,
      "outputs": [
        {
          "output_type": "stream",
          "text": [
            "4\n",
            "4.54\n",
            "6\n",
            "<class 'int'>\n",
            "<class 'float'>\n",
            "<class 'str'>\n"
          ],
          "name": "stdout"
        }
      ]
    },
    {
      "cell_type": "code",
      "metadata": {
        "id": "ksftCj97dEU6",
        "colab_type": "code",
        "outputId": "733cf582-b804-4a57-9bf9-74a4cff29968",
        "colab": {
          "base_uri": "https://localhost:8080/",
          "height": 119
        }
      },
      "source": [
        "i = int(4)\n",
        "f = int(4.54)\n",
        "s = int('6')\n",
        "\n",
        "print(i)\n",
        "print(f)\n",
        "print(s)\n",
        "\n",
        "print(type(i))\n",
        "print(type(f))\n",
        "print(type(s))\n"
      ],
      "execution_count": 0,
      "outputs": [
        {
          "output_type": "stream",
          "text": [
            "4\n",
            "4\n",
            "6\n",
            "<class 'int'>\n",
            "<class 'int'>\n",
            "<class 'int'>\n"
          ],
          "name": "stdout"
        }
      ]
    },
    {
      "cell_type": "code",
      "metadata": {
        "id": "CXY7IRTCehwJ",
        "colab_type": "code",
        "outputId": "c96b1e5c-0a5c-4630-f081-f9f272a9139b",
        "colab": {
          "base_uri": "https://localhost:8080/",
          "height": 119
        }
      },
      "source": [
        "i = float(4)\n",
        "f = float(4.54)\n",
        "s = float('6')\n",
        "\n",
        "print(i)\n",
        "print(f)\n",
        "print(s)\n",
        "\n",
        "print(type(i))\n",
        "print(type(f))\n",
        "print(type(s))\n"
      ],
      "execution_count": 0,
      "outputs": [
        {
          "output_type": "stream",
          "text": [
            "4.0\n",
            "4.54\n",
            "6.0\n",
            "<class 'float'>\n",
            "<class 'float'>\n",
            "<class 'float'>\n"
          ],
          "name": "stdout"
        }
      ]
    },
    {
      "cell_type": "code",
      "metadata": {
        "id": "raDnx4atfK4G",
        "colab_type": "code",
        "outputId": "ccff4c45-4730-46cd-fc87-47922dd3372c",
        "colab": {
          "base_uri": "https://localhost:8080/",
          "height": 119
        }
      },
      "source": [
        "i = str(4)\n",
        "f = str(4.54)\n",
        "s = str('sdsd6')\n",
        "\n",
        "print(i)\n",
        "print(f)\n",
        "print(s)\n",
        "\n",
        "print(type(i))\n",
        "print(type(f))\n",
        "print(type(s))\n"
      ],
      "execution_count": 0,
      "outputs": [
        {
          "output_type": "stream",
          "text": [
            "4\n",
            "4.54\n",
            "sdsd6\n",
            "<class 'str'>\n",
            "<class 'str'>\n",
            "<class 'str'>\n"
          ],
          "name": "stdout"
        }
      ]
    },
    {
      "cell_type": "markdown",
      "metadata": {
        "id": "7Ys0_wlmfomQ",
        "colab_type": "text"
      },
      "source": [
        "### String \n",
        "A string is a sequence of characters"
      ]
    },
    {
      "cell_type": "code",
      "metadata": {
        "id": "PrUW1M4tfY3Z",
        "colab_type": "code",
        "outputId": "0f880bc9-0c0d-42be-d5d7-bb760432219b",
        "colab": {
          "base_uri": "https://localhost:8080/",
          "height": 51
        }
      },
      "source": [
        "print('hello')\n",
        "print(\"hello\")"
      ],
      "execution_count": 0,
      "outputs": [
        {
          "output_type": "stream",
          "text": [
            "hello\n",
            "hello\n"
          ],
          "name": "stdout"
        }
      ]
    },
    {
      "cell_type": "code",
      "metadata": {
        "id": "VFVLtYCMgms6",
        "colab_type": "code",
        "outputId": "622ca098-b786-48f8-e42c-0fdb96d4245a",
        "colab": {
          "base_uri": "https://localhost:8080/",
          "height": 34
        }
      },
      "source": [
        "s = \"hello\"\n",
        "print(s)"
      ],
      "execution_count": 0,
      "outputs": [
        {
          "output_type": "stream",
          "text": [
            "hello\n"
          ],
          "name": "stdout"
        }
      ]
    },
    {
      "cell_type": "code",
      "metadata": {
        "id": "KTPmUIQ_gs_K",
        "colab_type": "code",
        "outputId": "94a23097-bc65-4d7b-a62a-07afd0cb6d54",
        "colab": {
          "base_uri": "https://localhost:8080/",
          "height": 51
        }
      },
      "source": [
        "# Multiline string\n",
        "\n",
        "s = \"\"\" This is \n",
        "multiline stirng\"\"\"\n",
        "\n",
        "print(s)"
      ],
      "execution_count": 0,
      "outputs": [
        {
          "output_type": "stream",
          "text": [
            " This is \n",
            "multiline stirng\n"
          ],
          "name": "stdout"
        }
      ]
    },
    {
      "cell_type": "code",
      "metadata": {
        "id": "avjf84kLgw3D",
        "colab_type": "code",
        "outputId": "0186b63a-a889-4e96-90ab-02e4e1c50023",
        "colab": {
          "base_uri": "https://localhost:8080/",
          "height": 34
        }
      },
      "source": [
        "# Strings are ARRAYS\n",
        "\n",
        "s = 'Hello World'\n",
        "\n",
        "'''INDEXING  \n",
        "     -positive indexing\n",
        "\n",
        "         'H  E  L  L  O     W  O  R  L  D'\n",
        "         [0][1][2][3][4][5][6][7][8][9][10]\n",
        "\n",
        "'''\n",
        "print(\"character present in index 3rd :\",s[3]) # returns only character present in index 3"
      ],
      "execution_count": 0,
      "outputs": [
        {
          "output_type": "stream",
          "text": [
            "character present in index 3rd : l\n"
          ],
          "name": "stdout"
        }
      ]
    },
    {
      "cell_type": "code",
      "metadata": {
        "id": "N0tiiepngwx7",
        "colab_type": "code",
        "outputId": "77582b5b-28c0-405a-b9c5-261d9819ad35",
        "colab": {
          "base_uri": "https://localhost:8080/",
          "height": 68
        }
      },
      "source": [
        "# string slicing  [start : end : step]\n",
        "\n",
        "print(s[:]) # returns whole string\n",
        "print(s[4:11]) # returns characters from index 4 to 10 exclude index 11\n",
        "print(s[1::2]) # returns characters from index 1 to last index with step 2"
      ],
      "execution_count": 0,
      "outputs": [
        {
          "output_type": "stream",
          "text": [
            "Hello World\n",
            "o World\n",
            "el ol\n"
          ],
          "name": "stdout"
        }
      ]
    },
    {
      "cell_type": "code",
      "metadata": {
        "id": "Khr9fAMcgwv0",
        "colab_type": "code",
        "outputId": "0e408207-4581-4915-a52c-64048d33c15c",
        "colab": {
          "base_uri": "https://localhost:8080/",
          "height": 85
        }
      },
      "source": [
        "# Negative INDEXING\n",
        "'''\n",
        "' H    E   L   L   O       W   O   R   L   D'\n",
        "[-11][-10][-9][-8][-7][-6][-5][-4][-3][-2][-1]\n",
        "\n",
        "'''\n",
        "\n",
        "s = 'Hello World'\n",
        "\n",
        "print(s[-1])\n",
        "print(s[-1:-5:-1]) # by default step is +ve 1\n",
        "\n",
        "print(s[::-1])\n",
        "print(s[::-2])"
      ],
      "execution_count": 0,
      "outputs": [
        {
          "output_type": "stream",
          "text": [
            "d\n",
            "dlro\n",
            "dlroW olleH\n",
            "drWolH\n"
          ],
          "name": "stdout"
        }
      ]
    },
    {
      "cell_type": "code",
      "metadata": {
        "id": "tvLYT_q1gwsO",
        "colab_type": "code",
        "outputId": "36b18ed9-6001-46a4-eac4-2f22ae9941a9",
        "colab": {
          "base_uri": "https://localhost:8080/",
          "height": 34
        }
      },
      "source": [
        "#String length\n",
        "\n",
        "#len()\n",
        "s = 'hello'\n",
        "len(s)"
      ],
      "execution_count": 0,
      "outputs": [
        {
          "output_type": "execute_result",
          "data": {
            "text/plain": [
              "5"
            ]
          },
          "metadata": {
            "tags": []
          },
          "execution_count": 31
        }
      ]
    },
    {
      "cell_type": "code",
      "metadata": {
        "id": "aoxWiG1qgwpE",
        "colab_type": "code",
        "outputId": "a0813fb9-0783-472a-87e4-2fcf1af63e05",
        "colab": {
          "base_uri": "https://localhost:8080/",
          "height": 34
        }
      },
      "source": [
        "# strip()\n",
        "a = \"         hello\"\n",
        "a.strip()"
      ],
      "execution_count": 0,
      "outputs": [
        {
          "output_type": "execute_result",
          "data": {
            "text/plain": [
              "'hello'"
            ]
          },
          "metadata": {
            "tags": []
          },
          "execution_count": 32
        }
      ]
    },
    {
      "cell_type": "code",
      "metadata": {
        "id": "ONHRsSlbgwmO",
        "colab_type": "code",
        "outputId": "ad8948c6-99da-4635-d456-498444ee26fb",
        "colab": {
          "base_uri": "https://localhost:8080/",
          "height": 34
        }
      },
      "source": [
        "# lower\n",
        "a = 'HELLO'\n",
        "a.lower()"
      ],
      "execution_count": 0,
      "outputs": [
        {
          "output_type": "execute_result",
          "data": {
            "text/plain": [
              "'hello'"
            ]
          },
          "metadata": {
            "tags": []
          },
          "execution_count": 33
        }
      ]
    },
    {
      "cell_type": "code",
      "metadata": {
        "id": "mgS1pAZHgwi0",
        "colab_type": "code",
        "outputId": "2e2763e0-76a4-4737-9544-6e94f11cff80",
        "colab": {
          "base_uri": "https://localhost:8080/",
          "height": 34
        }
      },
      "source": [
        "#upper()\n",
        "a = 'hello'\n",
        "a.upper()"
      ],
      "execution_count": 0,
      "outputs": [
        {
          "output_type": "execute_result",
          "data": {
            "text/plain": [
              "'HELLO'"
            ]
          },
          "metadata": {
            "tags": []
          },
          "execution_count": 35
        }
      ]
    },
    {
      "cell_type": "code",
      "metadata": {
        "id": "UJ5WX5TWgwgv",
        "colab_type": "code",
        "outputId": "8b93063f-69e5-487c-ebb2-72d6587185db",
        "colab": {
          "base_uri": "https://localhost:8080/",
          "height": 34
        }
      },
      "source": [
        "a = 'welcome to python programming..'\n",
        "a.title()"
      ],
      "execution_count": 0,
      "outputs": [
        {
          "output_type": "execute_result",
          "data": {
            "text/plain": [
              "'Welcome To Python Programming..'"
            ]
          },
          "metadata": {
            "tags": []
          },
          "execution_count": 36
        }
      ]
    },
    {
      "cell_type": "code",
      "metadata": {
        "id": "DTk-n_MFgwe0",
        "colab_type": "code",
        "outputId": "fac5bb13-d5f7-4081-8af2-4362fd8f03ca",
        "colab": {
          "base_uri": "https://localhost:8080/",
          "height": 51
        }
      },
      "source": [
        "a = 'S'\n",
        "print(a.replace('S','K'))\n",
        "b = 'Hello World'\n",
        "b.replace('Hello','Dream')"
      ],
      "execution_count": 0,
      "outputs": [
        {
          "output_type": "stream",
          "text": [
            "K\n"
          ],
          "name": "stdout"
        },
        {
          "output_type": "execute_result",
          "data": {
            "text/plain": [
              "'Dream World'"
            ]
          },
          "metadata": {
            "tags": []
          },
          "execution_count": 39
        }
      ]
    },
    {
      "cell_type": "code",
      "metadata": {
        "id": "UM_O8TENgwaP",
        "colab_type": "code",
        "outputId": "324f99ea-06f8-4a67-86b2-55f04a2742c8",
        "colab": {
          "base_uri": "https://localhost:8080/",
          "height": 34
        }
      },
      "source": [
        "a = 'hello'\n",
        "a.replace(a[0],'H')"
      ],
      "execution_count": 0,
      "outputs": [
        {
          "output_type": "execute_result",
          "data": {
            "text/plain": [
              "'Hello'"
            ]
          },
          "metadata": {
            "tags": []
          },
          "execution_count": 40
        }
      ]
    },
    {
      "cell_type": "code",
      "metadata": {
        "id": "VVYII4H6gwXZ",
        "colab_type": "code",
        "outputId": "2829641c-faef-46bf-c141-a25903c58ac2",
        "colab": {
          "base_uri": "https://localhost:8080/",
          "height": 34
        }
      },
      "source": [
        "a = 'lllllllooo'\n",
        "a.replace('ooo','lll')"
      ],
      "execution_count": 0,
      "outputs": [
        {
          "output_type": "execute_result",
          "data": {
            "text/plain": [
              "'llllllllll'"
            ]
          },
          "metadata": {
            "tags": []
          },
          "execution_count": 46
        }
      ]
    },
    {
      "cell_type": "code",
      "metadata": {
        "id": "vWmMt7rhgwUL",
        "colab_type": "code",
        "outputId": "276f54ec-06e9-41f8-f516-b04ad2966862",
        "colab": {
          "base_uri": "https://localhost:8080/",
          "height": 34
        }
      },
      "source": [
        "# split()\n",
        "s = 'hello, world'\n",
        "print(s.split(','))\n"
      ],
      "execution_count": 0,
      "outputs": [
        {
          "output_type": "stream",
          "text": [
            "['hello', ' world']\n"
          ],
          "name": "stdout"
        }
      ]
    },
    {
      "cell_type": "code",
      "metadata": {
        "id": "xkB5INMQgwSE",
        "colab_type": "code",
        "outputId": "ece8e153-61a6-45fa-ae5f-1dc4181d4052",
        "colab": {
          "base_uri": "https://localhost:8080/",
          "height": 51
        }
      },
      "source": [
        "# Checking String\n",
        "\n",
        "txt = \"Hello , Welcome to this place\"\n",
        "print(\"to\" in txt)\n",
        "print(\"to\" not in txt)"
      ],
      "execution_count": 0,
      "outputs": [
        {
          "output_type": "stream",
          "text": [
            "True\n",
            "False\n"
          ],
          "name": "stdout"
        }
      ]
    },
    {
      "cell_type": "code",
      "metadata": {
        "id": "RAZ4gmONgwQj",
        "colab_type": "code",
        "outputId": "ba310d35-67d1-47c1-b603-1df83046965c",
        "colab": {
          "base_uri": "https://localhost:8080/",
          "height": 51
        }
      },
      "source": [
        "# sting concatination\n",
        "a = 'S'\n",
        "b = 'K'\n",
        "print(a+b)\n",
        "print(a+\" \"+b)"
      ],
      "execution_count": 0,
      "outputs": [
        {
          "output_type": "stream",
          "text": [
            "SK\n",
            "S K\n"
          ],
          "name": "stdout"
        }
      ]
    },
    {
      "cell_type": "code",
      "metadata": {
        "id": "HcMMkMD0gwLr",
        "colab_type": "code",
        "outputId": "4e28a796-ec4f-469c-880d-6d21c7cfe560",
        "colab": {
          "base_uri": "https://localhost:8080/",
          "height": 34
        }
      },
      "source": [
        "s = \"a\"\n",
        "print(s * 4)"
      ],
      "execution_count": 0,
      "outputs": [
        {
          "output_type": "stream",
          "text": [
            "aaaa\n"
          ],
          "name": "stdout"
        }
      ]
    },
    {
      "cell_type": "markdown",
      "metadata": {
        "id": "dAKK4E6QGKqS",
        "colab_type": "text"
      },
      "source": [
        "string formating"
      ]
    },
    {
      "cell_type": "code",
      "metadata": {
        "id": "jrb6gS8kgwIv",
        "colab_type": "code",
        "outputId": "8daa258c-e16b-48f0-a5f8-c990d84d7d65",
        "colab": {
          "base_uri": "https://localhost:8080/",
          "height": 34
        }
      },
      "source": [
        "name = 'Sapna'\n",
        "age = 21\n",
        "print('My Name is {} and my age is {} '.format(name , age))"
      ],
      "execution_count": 0,
      "outputs": [
        {
          "output_type": "stream",
          "text": [
            "My Name is Sapna and my age is 21 \n"
          ],
          "name": "stdout"
        }
      ]
    },
    {
      "cell_type": "code",
      "metadata": {
        "id": "rQvlvstFgwGS",
        "colab_type": "code",
        "outputId": "90052048-4418-4453-b669-ca5c2196fd45",
        "colab": {
          "base_uri": "https://localhost:8080/",
          "height": 136
        }
      },
      "source": [
        "fname  = 'Sapna'\n",
        "lname = 'Kumari'\n",
        "age = 21\n",
        "\n",
        "#fname = {0}\n",
        "#lname = {1}\n",
        "#age = {2}\n",
        "\n",
        "print(\"First name is {0} and last name is {1}, and age is {2}\".format(fname,lname,age)) # correct\n",
        "print(\"------------------------------------------------------------\")\n",
        "\n",
        "print(\"First name is {2} and last name is {0}, and age is {1}\".format(fname,lname,age)) # wrong\n",
        "print(\"------------------------------------------------------------\")\n",
        "\n",
        "print(\"First name is {0} and last name is {1}, and age is {2}\".format(lname,age,fname)) # wrong\n",
        "print(\"------------------------------------------------------------\")\n",
        "\n",
        "print(\"First name is {2} and last name is {0}, and age is {1}\".format(lname,age,fname)) # correct"
      ],
      "execution_count": 0,
      "outputs": [
        {
          "output_type": "stream",
          "text": [
            "First name is Sapna and last name is Kumari, and age is 21\n",
            "------------------------------------------------------------\n",
            "First name is 21 and last name is Sapna, and age is Kumari\n",
            "------------------------------------------------------------\n",
            "First name is Kumari and last name is 21, and age is Sapna\n",
            "------------------------------------------------------------\n",
            "First name is Sapna and last name is Kumari, and age is 21\n"
          ],
          "name": "stdout"
        }
      ]
    },
    {
      "cell_type": "code",
      "metadata": {
        "id": "HyjjEQmagwDL",
        "colab_type": "code",
        "outputId": "ec41cf93-6d12-4121-d5ae-769e56b504b6",
        "colab": {
          "base_uri": "https://localhost:8080/",
          "height": 34
        }
      },
      "source": [
        "# escape character\n",
        "'''You will get an error if you use double quotes \n",
        "inside a string that is surrounded by double quotes:'''\n",
        "\n",
        "print(\"Welcome to \\\"Python\\\" programming\")\n"
      ],
      "execution_count": 0,
      "outputs": [
        {
          "output_type": "stream",
          "text": [
            "Welcome to \"Python\" programming\n"
          ],
          "name": "stdout"
        }
      ]
    },
    {
      "cell_type": "markdown",
      "metadata": {
        "id": "WgLinfHzMWtw",
        "colab_type": "text"
      },
      "source": [
        "string methods"
      ]
    },
    {
      "cell_type": "code",
      "metadata": {
        "id": "95VbsD4DgwA4",
        "colab_type": "code",
        "outputId": "1178fea6-7dc8-4f0e-fb59-b43ab302def4",
        "colab": {
          "base_uri": "https://localhost:8080/",
          "height": 34
        }
      },
      "source": [
        "# partition (): returns tuple\n",
        "s = 'I could eat mangose all day'\n",
        "print(s.partition('mangose'))"
      ],
      "execution_count": 0,
      "outputs": [
        {
          "output_type": "stream",
          "text": [
            "('I could eat ', 'mangose', ' all day')\n"
          ],
          "name": "stdout"
        }
      ]
    },
    {
      "cell_type": "code",
      "metadata": {
        "id": "lVT74fiNgv95",
        "colab_type": "code",
        "outputId": "9517ab12-f18f-4045-8726-850ed9c29081",
        "colab": {
          "base_uri": "https://localhost:8080/",
          "height": 34
        }
      },
      "source": [
        "# split():splits a string into a list.\n",
        "\n",
        "s = 'I could eat mangose all day'\n",
        "print(s.split())"
      ],
      "execution_count": 0,
      "outputs": [
        {
          "output_type": "stream",
          "text": [
            "['I', 'could', 'eat', 'mangose', 'all', 'day']\n"
          ],
          "name": "stdout"
        }
      ]
    },
    {
      "cell_type": "code",
      "metadata": {
        "id": "JjN1_5tFgv7u",
        "colab_type": "code",
        "outputId": "95cb68e3-e707-4ae0-f484-9e69fbd0a3c7",
        "colab": {
          "base_uri": "https://localhost:8080/",
          "height": 34
        }
      },
      "source": [
        "s='banana,mango,graps,apple'\n",
        "print(s.split(','))"
      ],
      "execution_count": 0,
      "outputs": [
        {
          "output_type": "stream",
          "text": [
            "['banana', 'mango', 'graps', 'apple']\n"
          ],
          "name": "stdout"
        }
      ]
    },
    {
      "cell_type": "code",
      "metadata": {
        "id": "wccGhx4Ygv26",
        "colab_type": "code",
        "outputId": "eb18d2bc-af6d-420c-cfcb-200cdf4f6a99",
        "colab": {
          "base_uri": "https://localhost:8080/",
          "height": 34
        }
      },
      "source": [
        "s = 'fhkjdf#kfdhk#sjdg#kriegnv#bfe'\n",
        "print(s.split('#',2))"
      ],
      "execution_count": 0,
      "outputs": [
        {
          "output_type": "stream",
          "text": [
            "['fhkjdf', 'kfdhk', 'sjdg#kriegnv#bfe']\n"
          ],
          "name": "stdout"
        }
      ]
    },
    {
      "cell_type": "code",
      "metadata": {
        "id": "Fh6XeHDOgv0r",
        "colab_type": "code",
        "outputId": "1377c6b6-0cf5-4164-8cd8-01fe9f3b7635",
        "colab": {
          "base_uri": "https://localhost:8080/",
          "height": 68
        }
      },
      "source": [
        "# count():Returns the number of times a specified value occurs in a string\n",
        "\n",
        "a = 'jsdgffghjfgbhfisjkjsdfjk'\n",
        "print(a.count('r'))\n",
        "print(a.count('f'))\n",
        "print(a.count('g'))\n",
        "\n"
      ],
      "execution_count": 0,
      "outputs": [
        {
          "output_type": "stream",
          "text": [
            "0\n",
            "5\n",
            "3\n"
          ],
          "name": "stdout"
        }
      ]
    },
    {
      "cell_type": "code",
      "metadata": {
        "id": "zutWsjPMgvyS",
        "colab_type": "code",
        "outputId": "4f558eb3-b7ab-4663-8723-367acfdc5c3d",
        "colab": {
          "base_uri": "https://localhost:8080/",
          "height": 34
        }
      },
      "source": [
        "# center():Returns a centered string\n",
        "a = 'hello'\n",
        "print(a.center(20,'*'))"
      ],
      "execution_count": 0,
      "outputs": [
        {
          "output_type": "stream",
          "text": [
            "*******hello********\n"
          ],
          "name": "stdout"
        }
      ]
    },
    {
      "cell_type": "code",
      "metadata": {
        "id": "am2X-_CHgvvA",
        "colab_type": "code",
        "outputId": "edea22b6-62b4-4b4e-8dac-ac6c776c6ad5",
        "colab": {
          "base_uri": "https://localhost:8080/",
          "height": 34
        }
      },
      "source": [
        "#endswith()\n",
        "s = 'aaaaaabaab'\n",
        "print(s.endswith(\"b\"))"
      ],
      "execution_count": 0,
      "outputs": [
        {
          "output_type": "stream",
          "text": [
            "True\n"
          ],
          "name": "stdout"
        }
      ]
    },
    {
      "cell_type": "code",
      "metadata": {
        "id": "N8yUa6Gjgvsb",
        "colab_type": "code",
        "outputId": "77195fff-64a3-4572-e7d0-0fbf554e93b2",
        "colab": {
          "base_uri": "https://localhost:8080/",
          "height": 51
        }
      },
      "source": [
        "# find():returns index of first occurence of element\n",
        "# rfind():returns index of lsst occurence of element\n",
        "\n",
        "\n",
        "s = 'My name is sapna'\n",
        "print(s.find('n'))\n",
        "print(s.rfind('n'))"
      ],
      "execution_count": 0,
      "outputs": [
        {
          "output_type": "stream",
          "text": [
            "3\n",
            "14\n"
          ],
          "name": "stdout"
        }
      ]
    },
    {
      "cell_type": "code",
      "metadata": {
        "id": "p_SvIoApgvo2",
        "colab_type": "code",
        "colab": {}
      },
      "source": [
        "#returns True or False based on condition\n",
        "#isalnum()\n",
        "#isalpha()\n",
        "#isdecimal()\n",
        "#isdigit()\n",
        "#istitle()\n",
        "#isupper()\n",
        "#islower()"
      ],
      "execution_count": 0,
      "outputs": []
    },
    {
      "cell_type": "markdown",
      "metadata": {
        "id": "UruHRkF-TlDi",
        "colab_type": "text"
      },
      "source": [
        "###Boolean Values"
      ]
    },
    {
      "cell_type": "code",
      "metadata": {
        "id": "f6ajch5KgvmZ",
        "colab_type": "code",
        "outputId": "3754817a-96c5-4c4b-bb79-fda3d90516e5",
        "colab": {
          "base_uri": "https://localhost:8080/",
          "height": 68
        }
      },
      "source": [
        "print(10 > 9)\n",
        "print(10 == 9)\n",
        "print(10 < 9)"
      ],
      "execution_count": 0,
      "outputs": [
        {
          "output_type": "stream",
          "text": [
            "True\n",
            "False\n",
            "False\n"
          ],
          "name": "stdout"
        }
      ]
    },
    {
      "cell_type": "code",
      "metadata": {
        "id": "5mPeBbbMgvjz",
        "colab_type": "code",
        "outputId": "bfe8b9f3-281a-4602-9c19-0d518b8f25e4",
        "colab": {
          "base_uri": "https://localhost:8080/",
          "height": 51
        }
      },
      "source": [
        "#True values\n",
        "print(bool('gdhj'))\n",
        "print(bool(3))\n"
      ],
      "execution_count": 0,
      "outputs": [
        {
          "output_type": "stream",
          "text": [
            "True\n",
            "True\n"
          ],
          "name": "stdout"
        }
      ]
    },
    {
      "cell_type": "code",
      "metadata": {
        "id": "VxL34q7IUmeE",
        "colab_type": "code",
        "outputId": "87553063-faeb-41f8-a59a-66d6bb688c89",
        "colab": {
          "base_uri": "https://localhost:8080/",
          "height": 68
        }
      },
      "source": [
        "print(bool(0))\n",
        "print(bool(None))\n",
        "print(bool(\"\"))"
      ],
      "execution_count": 0,
      "outputs": [
        {
          "output_type": "stream",
          "text": [
            "False\n",
            "False\n",
            "False\n"
          ],
          "name": "stdout"
        }
      ]
    },
    {
      "cell_type": "markdown",
      "metadata": {
        "id": "muB2lWxCOrbM",
        "colab_type": "text"
      },
      "source": [
        "### Python Operators\n",
        "\n",
        "Operators are used to perform operations on variables and values.\n",
        "\n"
      ]
    },
    {
      "cell_type": "markdown",
      "metadata": {
        "id": "ekPPHBP4PP33",
        "colab_type": "text"
      },
      "source": [
        "Arithmetic Operators : Arithmetic operators are used with numeric values to perform common mathematical operations"
      ]
    },
    {
      "cell_type": "code",
      "metadata": {
        "id": "iXj07GG9PhP0",
        "colab_type": "code",
        "outputId": "e00ab052-a955-408d-9437-c145e6d52afc",
        "colab": {
          "base_uri": "https://localhost:8080/",
          "height": 136
        }
      },
      "source": [
        "x = 15\n",
        "y = 7\n",
        "\n",
        "print(\"x + y = \",(x+y))  #Addition\n",
        "print(\"x - y = \",(x-y))  #subtraction\n",
        "print(\"x * y = \",(x*y))  #multiplication\n",
        "print(\"x / y = \",(x/y))  #division\n",
        "print(\"x // y = \",(x//y)) #floor division\n",
        "print(\"x % y = \",(x%y))  #modulus\n",
        "print(\"x ** y = \",(x**y)) #Exponentiation"
      ],
      "execution_count": 0,
      "outputs": [
        {
          "output_type": "stream",
          "text": [
            "x + y =  22\n",
            "x - y =  8\n",
            "x * y =  105\n",
            "x / y =  2.142857142857143\n",
            "x // y =  2\n",
            "x % y =  1\n",
            "x ** y =  170859375\n"
          ],
          "name": "stdout"
        }
      ]
    },
    {
      "cell_type": "markdown",
      "metadata": {
        "id": "Rbq8c_ozSz9W",
        "colab_type": "text"
      },
      "source": [
        "Assignment operator : Assignment operators are used to assign values to variables."
      ]
    },
    {
      "cell_type": "code",
      "metadata": {
        "id": "Wp9TanUBPxcd",
        "colab_type": "code",
        "outputId": "47885481-dae7-4607-b977-8680dc851724",
        "colab": {
          "base_uri": "https://localhost:8080/",
          "height": 51
        }
      },
      "source": [
        "x = 5\n",
        "print('Value of x is ',x)\n",
        "\n",
        "x += 3\n",
        "print(x)   #x= x + 3\n",
        "\n"
      ],
      "execution_count": 0,
      "outputs": [
        {
          "output_type": "stream",
          "text": [
            "Value of x is  5\n",
            "8\n"
          ],
          "name": "stdout"
        }
      ]
    },
    {
      "cell_type": "code",
      "metadata": {
        "id": "wz5QL1clTpfJ",
        "colab_type": "code",
        "outputId": "110b5da1-12ff-4c5c-89ed-acda8f30028e",
        "colab": {
          "base_uri": "https://localhost:8080/",
          "height": 51
        }
      },
      "source": [
        "x = 5\n",
        "print('Value of x is ',x)\n",
        "\n",
        "x -= 3\n",
        "print(x)   #x= x + 3\n",
        "\n",
        "# x /= 3 --->   x = x/3\n",
        "# x %= 3 --->   x = x%3\n",
        "# x //= 3 --->   x = x//3\n",
        "# x **= 3 --->   x = x**3\n",
        "# x &= 3 --->   x = x&3\n",
        "# x |= 3 --->   x = x|3\n",
        "# x ^= 3 --->   x = x^3\n",
        "# x >>= 3 --->   x = x>>3\n",
        "# x <<= 3 --->   x = x<<3\n"
      ],
      "execution_count": 0,
      "outputs": [
        {
          "output_type": "stream",
          "text": [
            "Value of x is  5\n",
            "2\n"
          ],
          "name": "stdout"
        }
      ]
    },
    {
      "cell_type": "markdown",
      "metadata": {
        "id": "qVCN_hEYD75s",
        "colab_type": "text"
      },
      "source": [
        "Comparision Operator:\n",
        "Comparison operators are used to compare two values"
      ]
    },
    {
      "cell_type": "code",
      "metadata": {
        "id": "XewFdJ8lTsr6",
        "colab_type": "code",
        "outputId": "77cfb74a-b40a-43dd-a344-2a8419b544c9",
        "colab": {
          "base_uri": "https://localhost:8080/",
          "height": 170
        }
      },
      "source": [
        "x = 4\n",
        "y =10\n",
        "\n",
        "print('Value of x is : ',x)\n",
        "print('Value of y is : ',y)\n",
        "print('-----------------------------------------')\n",
        "print('x == y is ',(x == y))    # equal (==)\n",
        "print('x != y is ',(x != y))     # not equal ( !=)\n",
        "print('x > y  is ',(x > y))      # greater than ( > )\n",
        "print('x < y  is ',(x < y))      # less than ( < )\n",
        "print('x >= y is ',(x >= y))     # greater than equal to ( >= )\n",
        "print('x <= y is ',(x <= y))     # less than equal to ( <= )\n"
      ],
      "execution_count": 0,
      "outputs": [
        {
          "output_type": "stream",
          "text": [
            "Value of x is :  4\n",
            "Value of y is :  10\n",
            "-----------------------------------------\n",
            "x == y is  False\n",
            "x != y is  True\n",
            "x > y  is  False\n",
            "x < y  is  True\n",
            "x >= y is  False\n",
            "x <= y is  True\n"
          ],
          "name": "stdout"
        }
      ]
    },
    {
      "cell_type": "markdown",
      "metadata": {
        "id": "xca6tjWGG9Ks",
        "colab_type": "text"
      },
      "source": [
        "Logical Operator:Logical operators are used to combine conditional statements"
      ]
    },
    {
      "cell_type": "code",
      "metadata": {
        "id": "RivUkZIcE2fV",
        "colab_type": "code",
        "colab": {}
      },
      "source": [
        "# and : Returns True if both statements are true \n",
        "# or : Returns True if one of the statements is true\n",
        "# not : Reverse the result, returns False if the result is true"
      ],
      "execution_count": 0,
      "outputs": []
    },
    {
      "cell_type": "code",
      "metadata": {
        "id": "3NyKD5UgJhcN",
        "colab_type": "code",
        "outputId": "46444f58-0f93-4f0f-a4a6-1735f6341e04",
        "colab": {
          "base_uri": "https://localhost:8080/",
          "height": 85
        }
      },
      "source": [
        "x = 5\n",
        "\n",
        "c1 = x > 3 and  x < 10\n",
        "c2 = x < 3 or x < 10\n",
        "print(c1)\n",
        "print(c2)\n",
        "print(not(c1))\n",
        "print(not(c2))"
      ],
      "execution_count": 0,
      "outputs": [
        {
          "output_type": "stream",
          "text": [
            "True\n",
            "True\n",
            "False\n",
            "False\n"
          ],
          "name": "stdout"
        }
      ]
    },
    {
      "cell_type": "markdown",
      "metadata": {
        "id": "LQd3WSoAKw8-",
        "colab_type": "text"
      },
      "source": [
        "Identity Operator : Identity operators are used to compare the objects, not if they are equal, but if they are actually the same object, with the same memory location:"
      ]
    },
    {
      "cell_type": "code",
      "metadata": {
        "id": "Q6HWJcJ8LFMG",
        "colab_type": "code",
        "outputId": "30244180-0ad8-4a86-951b-82109028fbd7",
        "colab": {
          "base_uri": "https://localhost:8080/",
          "height": 68
        }
      },
      "source": [
        "# is : Returns True if both variables are the same object\t\n",
        "x = ['hello','world']\n",
        "y = ['hello','world']\n",
        "z = x\n",
        "print(x is z)   # returns True because z is the same object as x\n",
        "print(x is y)   # returns False because x is not the same object as y, even if they have the same content\n",
        "print(x == y)   # this comparison returns True because x is equal to y"
      ],
      "execution_count": 0,
      "outputs": [
        {
          "output_type": "stream",
          "text": [
            "True\n",
            "False\n",
            "True\n"
          ],
          "name": "stdout"
        }
      ]
    },
    {
      "cell_type": "code",
      "metadata": {
        "id": "yUShil9fLcll",
        "colab_type": "code",
        "outputId": "19e4b879-1c45-4c77-b3d5-cdbc4b3e8a33",
        "colab": {
          "base_uri": "https://localhost:8080/",
          "height": 68
        }
      },
      "source": [
        "# is not : Returns True if both variables are not the same object\t\n",
        "x = ['hello','world']\n",
        "y = ['hello','world']\n",
        "z = x\n",
        "print(x is not z)\n",
        "print(x is not y)\n",
        "print(x != y)"
      ],
      "execution_count": 0,
      "outputs": [
        {
          "output_type": "stream",
          "text": [
            "False\n",
            "True\n",
            "False\n"
          ],
          "name": "stdout"
        }
      ]
    },
    {
      "cell_type": "markdown",
      "metadata": {
        "id": "_L1cYdR4BQhF",
        "colab_type": "text"
      },
      "source": [
        "Membership Operator:"
      ]
    },
    {
      "cell_type": "code",
      "metadata": {
        "id": "qCiGSrtVMnz3",
        "colab_type": "code",
        "outputId": "7688740f-328e-4722-ae92-c688c792b7ce",
        "colab": {
          "base_uri": "https://localhost:8080/",
          "height": 51
        }
      },
      "source": [
        "# in : Returns True if a sequence with the specified value is present in the object\n",
        "\n",
        "x = [1,2,34,5]\n",
        "print(1 in x)\n",
        "print(21 in x)"
      ],
      "execution_count": 0,
      "outputs": [
        {
          "output_type": "stream",
          "text": [
            "True\n",
            "False\n"
          ],
          "name": "stdout"
        }
      ]
    },
    {
      "cell_type": "code",
      "metadata": {
        "id": "TcC_tAwxBu9y",
        "colab_type": "code",
        "outputId": "6c864e77-84f3-4688-a93f-262c02b3f9e9",
        "colab": {
          "base_uri": "https://localhost:8080/",
          "height": 51
        }
      },
      "source": [
        "#not in : Returns True if a sequence with the specified value is not present in the object\n",
        "\n",
        "x = [1,2,34,5]\n",
        "print(1 not in x)\n",
        "print(21 not in x)"
      ],
      "execution_count": 0,
      "outputs": [
        {
          "output_type": "stream",
          "text": [
            "False\n",
            "True\n"
          ],
          "name": "stdout"
        }
      ]
    },
    {
      "cell_type": "markdown",
      "metadata": {
        "id": "d8nkcbIvCKV3",
        "colab_type": "text"
      },
      "source": [
        "Bitwise Operators: Bitwise operators are used to compare (binary) numbers\n"
      ]
    },
    {
      "cell_type": "code",
      "metadata": {
        "id": "E9bG3NxWCGH_",
        "colab_type": "code",
        "colab": {}
      },
      "source": [
        "# & - bitwise AND\n",
        "# | - bitwise OR\n",
        "# ^ - bitwise XOR\n",
        "# ~ - bitwise NOT\n",
        "# >> - Bitwise right shift\n",
        "# << - Bitwise left shift"
      ],
      "execution_count": 0,
      "outputs": []
    }
  ]
}