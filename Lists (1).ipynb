{
  "nbformat": 4,
  "nbformat_minor": 0,
  "metadata": {
    "kernelspec": {
      "display_name": "Python 3",
      "language": "python",
      "name": "python3"
    },
    "language_info": {
      "codemirror_mode": {
        "name": "ipython",
        "version": 3
      },
      "file_extension": ".py",
      "mimetype": "text/x-python",
      "name": "python",
      "nbconvert_exporter": "python",
      "pygments_lexer": "ipython3",
      "version": "3.7.4"
    },
    "colab": {
      "name": "Lists.ipynb",
      "provenance": [],
      "collapsed_sections": []
    }
  },
  "cells": [
    {
      "cell_type": "markdown",
      "metadata": {
        "id": "hSd8vxf7svt5",
        "colab_type": "text"
      },
      "source": [
        "## Python Lists\n",
        "\n",
        "Lists are very similar to arrays. They can contain any type of variable, and they can contain as many variables as you wish. Lists can also be iterated over in a very simple manner."
      ]
    },
    {
      "cell_type": "code",
      "metadata": {
        "id": "Vy3nwFs2svt8",
        "colab_type": "code",
        "colab": {}
      },
      "source": [
        "lst = []"
      ],
      "execution_count": null,
      "outputs": []
    },
    {
      "cell_type": "code",
      "metadata": {
        "id": "1mLhRlK7svuE",
        "colab_type": "code",
        "colab": {}
      },
      "source": [
        "a = list()"
      ],
      "execution_count": null,
      "outputs": []
    },
    {
      "cell_type": "code",
      "metadata": {
        "id": "1gEYG59tsvuK",
        "colab_type": "code",
        "colab": {},
        "outputId": "59c25f4a-1715-473a-97b8-072463c0a7c2"
      },
      "source": [
        "type(a)"
      ],
      "execution_count": null,
      "outputs": [
        {
          "output_type": "execute_result",
          "data": {
            "text/plain": [
              "list"
            ]
          },
          "metadata": {
            "tags": []
          },
          "execution_count": 29
        }
      ]
    },
    {
      "cell_type": "code",
      "metadata": {
        "id": "lxB7Rkc3svuR",
        "colab_type": "code",
        "colab": {},
        "outputId": "d34e641c-af64-44d5-c08a-30af6f1ef358"
      },
      "source": [
        "type(lst)"
      ],
      "execution_count": null,
      "outputs": [
        {
          "output_type": "execute_result",
          "data": {
            "text/plain": [
              "list"
            ]
          },
          "metadata": {
            "tags": []
          },
          "execution_count": 30
        }
      ]
    },
    {
      "cell_type": "code",
      "metadata": {
        "id": "LmMIf1xzsvuY",
        "colab_type": "code",
        "colab": {}
      },
      "source": [
        "lst = [1,2,3,4, \"dream\",\"sapna\",4.5, 2+5j]"
      ],
      "execution_count": 1,
      "outputs": []
    },
    {
      "cell_type": "code",
      "metadata": {
        "id": "Wf6IsvdIsvuf",
        "colab_type": "code",
        "colab": {
          "base_uri": "https://localhost:8080/",
          "height": 34
        },
        "outputId": "dbc9d83e-3b4f-428d-98bc-695e9ba7852c"
      },
      "source": [
        "print(lst)"
      ],
      "execution_count": 2,
      "outputs": [
        {
          "output_type": "stream",
          "text": [
            "[1, 2, 3, 4, 'dream', 'sapna', 4.5, (2+5j)]\n"
          ],
          "name": "stdout"
        }
      ]
    },
    {
      "cell_type": "markdown",
      "metadata": {
        "id": "zHigdl_0svuk",
        "colab_type": "text"
      },
      "source": [
        "### how to access the element in list."
      ]
    },
    {
      "cell_type": "code",
      "metadata": {
        "id": "Q52LoamWsvum",
        "colab_type": "code",
        "colab": {
          "base_uri": "https://localhost:8080/",
          "height": 34
        },
        "outputId": "3b84f457-6e36-4d9d-f840-9d1429df3324"
      },
      "source": [
        "lst"
      ],
      "execution_count": 3,
      "outputs": [
        {
          "output_type": "execute_result",
          "data": {
            "text/plain": [
              "[1, 2, 3, 4, 'dream', 'sapna', 4.5, (2+5j)]"
            ]
          },
          "metadata": {
            "tags": []
          },
          "execution_count": 3
        }
      ]
    },
    {
      "cell_type": "code",
      "metadata": {
        "id": "ai0N1p4wsvus",
        "colab_type": "code",
        "colab": {
          "base_uri": "https://localhost:8080/",
          "height": 35
        },
        "outputId": "a00ebcdc-9964-4fde-8953-933af44c45c9"
      },
      "source": [
        "#You access the list items by referring to the index number:\n",
        "\n",
        "lst[4]"
      ],
      "execution_count": 4,
      "outputs": [
        {
          "output_type": "execute_result",
          "data": {
            "application/vnd.google.colaboratory.intrinsic": {
              "type": "string"
            },
            "text/plain": [
              "'dream'"
            ]
          },
          "metadata": {
            "tags": []
          },
          "execution_count": 4
        }
      ]
    },
    {
      "cell_type": "code",
      "metadata": {
        "id": "R39CxiZnsvux",
        "colab_type": "code",
        "colab": {
          "base_uri": "https://localhost:8080/",
          "height": 34
        },
        "outputId": "da61adf1-db86-4adf-fb32-7fade2df3050"
      },
      "source": [
        "# Negative Indexing\n",
        "lst[-1]"
      ],
      "execution_count": 5,
      "outputs": [
        {
          "output_type": "execute_result",
          "data": {
            "text/plain": [
              "(2+5j)"
            ]
          },
          "metadata": {
            "tags": []
          },
          "execution_count": 5
        }
      ]
    },
    {
      "cell_type": "code",
      "metadata": {
        "id": "ZByf25b2svu3",
        "colab_type": "code",
        "colab": {
          "base_uri": "https://localhost:8080/",
          "height": 35
        },
        "outputId": "d8a6fc01-049b-45e5-a03b-b2139d847d03"
      },
      "source": [
        "lst[-4]"
      ],
      "execution_count": 6,
      "outputs": [
        {
          "output_type": "execute_result",
          "data": {
            "application/vnd.google.colaboratory.intrinsic": {
              "type": "string"
            },
            "text/plain": [
              "'dream'"
            ]
          },
          "metadata": {
            "tags": []
          },
          "execution_count": 6
        }
      ]
    },
    {
      "cell_type": "code",
      "metadata": {
        "id": "3ySjcwW7svu8",
        "colab_type": "code",
        "colab": {
          "base_uri": "https://localhost:8080/",
          "height": 34
        },
        "outputId": "fa626c16-d135-4054-df72-3447620a9e00"
      },
      "source": [
        "# Range of Indexes\n",
        "\n",
        "lst"
      ],
      "execution_count": 7,
      "outputs": [
        {
          "output_type": "execute_result",
          "data": {
            "text/plain": [
              "[1, 2, 3, 4, 'dream', 'sapna', 4.5, (2+5j)]"
            ]
          },
          "metadata": {
            "tags": []
          },
          "execution_count": 7
        }
      ]
    },
    {
      "cell_type": "code",
      "metadata": {
        "id": "jRHd48JUsvvB",
        "colab_type": "code",
        "colab": {
          "base_uri": "https://localhost:8080/",
          "height": 34
        },
        "outputId": "162dc77c-14f8-4de2-d2b6-7aea5eedb5f2"
      },
      "source": [
        "# list[start:end:step]\n",
        "\n",
        "lst[:]"
      ],
      "execution_count": 8,
      "outputs": [
        {
          "output_type": "execute_result",
          "data": {
            "text/plain": [
              "[1, 2, 3, 4, 'dream', 'sapna', 4.5, (2+5j)]"
            ]
          },
          "metadata": {
            "tags": []
          },
          "execution_count": 8
        }
      ]
    },
    {
      "cell_type": "code",
      "metadata": {
        "id": "XxDK2WBKsvvG",
        "colab_type": "code",
        "colab": {
          "base_uri": "https://localhost:8080/",
          "height": 34
        },
        "outputId": "47881b9f-f0d5-404d-f32d-e6427064564c"
      },
      "source": [
        "lst[0:]"
      ],
      "execution_count": 9,
      "outputs": [
        {
          "output_type": "execute_result",
          "data": {
            "text/plain": [
              "[1, 2, 3, 4, 'dream', 'sapna', 4.5, (2+5j)]"
            ]
          },
          "metadata": {
            "tags": []
          },
          "execution_count": 9
        }
      ]
    },
    {
      "cell_type": "code",
      "metadata": {
        "id": "egIyJSHlsvvL",
        "colab_type": "code",
        "colab": {
          "base_uri": "https://localhost:8080/",
          "height": 34
        },
        "outputId": "44a31d05-65f3-442e-fa65-dab5ea18ffe0"
      },
      "source": [
        "lst[:5]"
      ],
      "execution_count": 10,
      "outputs": [
        {
          "output_type": "execute_result",
          "data": {
            "text/plain": [
              "[1, 2, 3, 4, 'dream']"
            ]
          },
          "metadata": {
            "tags": []
          },
          "execution_count": 10
        }
      ]
    },
    {
      "cell_type": "code",
      "metadata": {
        "id": "W2uVgnM3svvR",
        "colab_type": "code",
        "colab": {
          "base_uri": "https://localhost:8080/",
          "height": 34
        },
        "outputId": "979a1fe1-1ec2-4f23-998f-023fbfc86ab3"
      },
      "source": [
        "lst[2:6]"
      ],
      "execution_count": 11,
      "outputs": [
        {
          "output_type": "execute_result",
          "data": {
            "text/plain": [
              "[3, 4, 'dream', 'sapna']"
            ]
          },
          "metadata": {
            "tags": []
          },
          "execution_count": 11
        }
      ]
    },
    {
      "cell_type": "code",
      "metadata": {
        "id": "iDsKk4TBsvvX",
        "colab_type": "code",
        "colab": {
          "base_uri": "https://localhost:8080/",
          "height": 34
        },
        "outputId": "d457fe00-9289-46c0-d217-9de8fc415ec1"
      },
      "source": [
        "lst[1::2]"
      ],
      "execution_count": 12,
      "outputs": [
        {
          "output_type": "execute_result",
          "data": {
            "text/plain": [
              "[2, 4, 'sapna', (2+5j)]"
            ]
          },
          "metadata": {
            "tags": []
          },
          "execution_count": 12
        }
      ]
    },
    {
      "cell_type": "code",
      "metadata": {
        "id": "B7Jl-vmvsvvc",
        "colab_type": "code",
        "colab": {
          "base_uri": "https://localhost:8080/",
          "height": 34
        },
        "outputId": "8ae6c2a4-9403-4a5a-c55d-3ba507ee3307"
      },
      "source": [
        "# if u want to print a reverse order u can use it -ve index.\n",
        "\n",
        "lst[::-1]"
      ],
      "execution_count": 13,
      "outputs": [
        {
          "output_type": "execute_result",
          "data": {
            "text/plain": [
              "[(2+5j), 4.5, 'sapna', 'dream', 4, 3, 2, 1]"
            ]
          },
          "metadata": {
            "tags": []
          },
          "execution_count": 13
        }
      ]
    },
    {
      "cell_type": "code",
      "metadata": {
        "id": "c0ZcowHqsvvg",
        "colab_type": "code",
        "colab": {
          "base_uri": "https://localhost:8080/",
          "height": 34
        },
        "outputId": "8eb5d6f8-c3bd-4784-df3d-a05fad5431ed"
      },
      "source": [
        "lst[-4:]"
      ],
      "execution_count": 14,
      "outputs": [
        {
          "output_type": "execute_result",
          "data": {
            "text/plain": [
              "['dream', 'sapna', 4.5, (2+5j)]"
            ]
          },
          "metadata": {
            "tags": []
          },
          "execution_count": 14
        }
      ]
    },
    {
      "cell_type": "code",
      "metadata": {
        "id": "rsVkE7tFsvvm",
        "colab_type": "code",
        "colab": {
          "base_uri": "https://localhost:8080/",
          "height": 34
        },
        "outputId": "4585694c-9322-41ef-97cd-b60966b45c30"
      },
      "source": [
        "# Change Item Value :- if u wants to change the value of existing list..\n",
        "\n",
        "animals = [\"Elephant\",\"zebra\",\"goat\",\"lion\",\"tiger\",\"deer\",\"buffalo\"]\n",
        "animals"
      ],
      "execution_count": 15,
      "outputs": [
        {
          "output_type": "execute_result",
          "data": {
            "text/plain": [
              "['Elephant', 'zebra', 'goat', 'lion', 'tiger', 'deer', 'buffalo']"
            ]
          },
          "metadata": {
            "tags": []
          },
          "execution_count": 15
        }
      ]
    },
    {
      "cell_type": "code",
      "metadata": {
        "id": "bQh1ymhLsvvq",
        "colab_type": "code",
        "colab": {}
      },
      "source": [
        "animals[2]=\"cow\""
      ],
      "execution_count": 16,
      "outputs": []
    },
    {
      "cell_type": "code",
      "metadata": {
        "id": "Ss2ZErKDsvvv",
        "colab_type": "code",
        "colab": {
          "base_uri": "https://localhost:8080/",
          "height": 34
        },
        "outputId": "1f1dbf87-b8b7-4b56-c2b8-86196cb8439d"
      },
      "source": [
        "animals"
      ],
      "execution_count": 17,
      "outputs": [
        {
          "output_type": "execute_result",
          "data": {
            "text/plain": [
              "['Elephant', 'zebra', 'cow', 'lion', 'tiger', 'deer', 'buffalo']"
            ]
          },
          "metadata": {
            "tags": []
          },
          "execution_count": 17
        }
      ]
    },
    {
      "cell_type": "markdown",
      "metadata": {
        "id": "UsVT7_3Rsvv0",
        "colab_type": "text"
      },
      "source": [
        "### Loop Through a List\n"
      ]
    },
    {
      "cell_type": "code",
      "metadata": {
        "id": "1_G0K4bUsvv1",
        "colab_type": "code",
        "colab": {
          "base_uri": "https://localhost:8080/",
          "height": 34
        },
        "outputId": "74f849da-06ed-42fe-df37-adf6e4ea6834"
      },
      "source": [
        "animals"
      ],
      "execution_count": 18,
      "outputs": [
        {
          "output_type": "execute_result",
          "data": {
            "text/plain": [
              "['Elephant', 'zebra', 'cow', 'lion', 'tiger', 'deer', 'buffalo']"
            ]
          },
          "metadata": {
            "tags": []
          },
          "execution_count": 18
        }
      ]
    },
    {
      "cell_type": "code",
      "metadata": {
        "id": "1kSEWG5csvv5",
        "colab_type": "code",
        "colab": {
          "base_uri": "https://localhost:8080/",
          "height": 136
        },
        "outputId": "6d83aead-e3bb-4cca-ba6b-7b3e9d5ead62"
      },
      "source": [
        "for i in animals:\n",
        "    print(i)"
      ],
      "execution_count": 19,
      "outputs": [
        {
          "output_type": "stream",
          "text": [
            "Elephant\n",
            "zebra\n",
            "cow\n",
            "lion\n",
            "tiger\n",
            "deer\n",
            "buffalo\n"
          ],
          "name": "stdout"
        }
      ]
    },
    {
      "cell_type": "markdown",
      "metadata": {
        "id": "8fYvpiRrsvv9",
        "colab_type": "text"
      },
      "source": [
        "### Methods in list\n",
        "- len()\n",
        "- append()\n",
        "- insert()\n",
        "- extend()\n",
        "- sort()\n",
        "- reverse()\n",
        "- sum()\n",
        "- pop()\n",
        "- max()\n",
        "- remove()\n",
        "- clear()\n",
        "- copy()\n",
        "- count()"
      ]
    },
    {
      "cell_type": "code",
      "metadata": {
        "id": "AzJtu1Adsvv-",
        "colab_type": "code",
        "colab": {
          "base_uri": "https://localhost:8080/",
          "height": 34
        },
        "outputId": "08f9a278-c1d2-4ec8-d6ff-e28c85ea4240"
      },
      "source": [
        "animals\n"
      ],
      "execution_count": 20,
      "outputs": [
        {
          "output_type": "execute_result",
          "data": {
            "text/plain": [
              "['Elephant', 'zebra', 'cow', 'lion', 'tiger', 'deer', 'buffalo']"
            ]
          },
          "metadata": {
            "tags": []
          },
          "execution_count": 20
        }
      ]
    },
    {
      "cell_type": "markdown",
      "metadata": {
        "id": "oI_SNXLxsvwD",
        "colab_type": "text"
      },
      "source": [
        "#### len()"
      ]
    },
    {
      "cell_type": "code",
      "metadata": {
        "id": "Y2lt9whdsvwE",
        "colab_type": "code",
        "colab": {
          "base_uri": "https://localhost:8080/",
          "height": 34
        },
        "outputId": "1a133ec1-d97b-49dc-e88a-0270cb0dfbff"
      },
      "source": [
        "len(animals)"
      ],
      "execution_count": 21,
      "outputs": [
        {
          "output_type": "execute_result",
          "data": {
            "text/plain": [
              "7"
            ]
          },
          "metadata": {
            "tags": []
          },
          "execution_count": 21
        }
      ]
    },
    {
      "cell_type": "markdown",
      "metadata": {
        "id": "yAx2nSPwsvwI",
        "colab_type": "text"
      },
      "source": [
        "####  append(): \n",
        "Adds an element at the end of the list"
      ]
    },
    {
      "cell_type": "code",
      "metadata": {
        "id": "d9VZjfx5svwJ",
        "colab_type": "code",
        "colab": {}
      },
      "source": [
        "list1 =[]\n",
        "\n",
        "list1.append('Kumari')"
      ],
      "execution_count": 27,
      "outputs": []
    },
    {
      "cell_type": "code",
      "metadata": {
        "id": "2xq3nIiRsvwQ",
        "colab_type": "code",
        "colab": {
          "base_uri": "https://localhost:8080/",
          "height": 34
        },
        "outputId": "d894ed7a-01fe-4eff-a944-a7b974a7a9b9"
      },
      "source": [
        "list1"
      ],
      "execution_count": 28,
      "outputs": [
        {
          "output_type": "execute_result",
          "data": {
            "text/plain": [
              "['Kumari']"
            ]
          },
          "metadata": {
            "tags": []
          },
          "execution_count": 28
        }
      ]
    },
    {
      "cell_type": "code",
      "metadata": {
        "id": "fidlBPsDsvwV",
        "colab_type": "code",
        "colab": {}
      },
      "source": [
        "list1.append([\"sfdshj\",\"siadmat\",\"lsdf\",\"hanu\"])\n",
        "\n",
        "# we can store list inside a list"
      ],
      "execution_count": 29,
      "outputs": []
    },
    {
      "cell_type": "code",
      "metadata": {
        "id": "9pEKJGyssvwZ",
        "colab_type": "code",
        "colab": {
          "base_uri": "https://localhost:8080/",
          "height": 34
        },
        "outputId": "4cefab50-f64f-4d5b-848f-f55e3cd0fcf2"
      },
      "source": [
        "list1"
      ],
      "execution_count": 30,
      "outputs": [
        {
          "output_type": "execute_result",
          "data": {
            "text/plain": [
              "['Kumari', ['sfdshj', 'siadmat', 'lsdf', 'hanu']]"
            ]
          },
          "metadata": {
            "tags": []
          },
          "execution_count": 30
        }
      ]
    },
    {
      "cell_type": "code",
      "metadata": {
        "id": "KmJ9DUVVsvwf",
        "colab_type": "code",
        "colab": {}
      },
      "source": [
        "list1.append(4567542)"
      ],
      "execution_count": 31,
      "outputs": []
    },
    {
      "cell_type": "code",
      "metadata": {
        "id": "-WaAGDivsvwj",
        "colab_type": "code",
        "colab": {
          "base_uri": "https://localhost:8080/",
          "height": 34
        },
        "outputId": "17137491-9894-4c75-92cd-033cba0c6d69"
      },
      "source": [
        "list1"
      ],
      "execution_count": 32,
      "outputs": [
        {
          "output_type": "execute_result",
          "data": {
            "text/plain": [
              "['Kumari', ['sfdshj', 'siadmat', 'lsdf', 'hanu'], 4567542]"
            ]
          },
          "metadata": {
            "tags": []
          },
          "execution_count": 32
        }
      ]
    },
    {
      "cell_type": "code",
      "metadata": {
        "id": "EMGVHxzKsvwn",
        "colab_type": "code",
        "colab": {
          "base_uri": "https://localhost:8080/",
          "height": 34
        },
        "outputId": "d5cca771-9fb4-424f-8e01-90eb87619ff3"
      },
      "source": [
        "list1[1]   # is returns a list "
      ],
      "execution_count": 33,
      "outputs": [
        {
          "output_type": "execute_result",
          "data": {
            "text/plain": [
              "['sfdshj', 'siadmat', 'lsdf', 'hanu']"
            ]
          },
          "metadata": {
            "tags": []
          },
          "execution_count": 33
        }
      ]
    },
    {
      "cell_type": "markdown",
      "metadata": {
        "id": "uOtdcV0Hsvws",
        "colab_type": "text"
      },
      "source": [
        "#### list inside list"
      ]
    },
    {
      "cell_type": "code",
      "metadata": {
        "id": "FU070IQosvwt",
        "colab_type": "code",
        "colab": {
          "base_uri": "https://localhost:8080/",
          "height": 34
        },
        "outputId": "c162880d-6d7b-4e70-bc0f-6473de1c041e"
      },
      "source": [
        "l = [[1,2,3],[10,20,30],[11,22,33]]\n",
        "l"
      ],
      "execution_count": 34,
      "outputs": [
        {
          "output_type": "execute_result",
          "data": {
            "text/plain": [
              "[[1, 2, 3], [10, 20, 30], [11, 22, 33]]"
            ]
          },
          "metadata": {
            "tags": []
          },
          "execution_count": 34
        }
      ]
    },
    {
      "cell_type": "code",
      "metadata": {
        "id": "cXYnWFfLsvwy",
        "colab_type": "code",
        "colab": {
          "base_uri": "https://localhost:8080/",
          "height": 34
        },
        "outputId": "92f96f35-4c55-43b1-8db8-0b8bc301cbb3"
      },
      "source": [
        "l[0][2]"
      ],
      "execution_count": 35,
      "outputs": [
        {
          "output_type": "execute_result",
          "data": {
            "text/plain": [
              "3"
            ]
          },
          "metadata": {
            "tags": []
          },
          "execution_count": 35
        }
      ]
    },
    {
      "cell_type": "code",
      "metadata": {
        "id": "0VEd9z-5svw3",
        "colab_type": "code",
        "colab": {
          "base_uri": "https://localhost:8080/",
          "height": 34
        },
        "outputId": "3afa40a8-a63b-41bb-ae38-0f9f9e8943e0"
      },
      "source": [
        "l[1][1]"
      ],
      "execution_count": 36,
      "outputs": [
        {
          "output_type": "execute_result",
          "data": {
            "text/plain": [
              "20"
            ]
          },
          "metadata": {
            "tags": []
          },
          "execution_count": 36
        }
      ]
    },
    {
      "cell_type": "code",
      "metadata": {
        "id": "DkR1AULCsvw-",
        "colab_type": "code",
        "colab": {
          "base_uri": "https://localhost:8080/",
          "height": 34
        },
        "outputId": "b6cb2609-8049-48af-e831-0530564ca728"
      },
      "source": [
        "l[2][0]"
      ],
      "execution_count": 37,
      "outputs": [
        {
          "output_type": "execute_result",
          "data": {
            "text/plain": [
              "11"
            ]
          },
          "metadata": {
            "tags": []
          },
          "execution_count": 37
        }
      ]
    },
    {
      "cell_type": "code",
      "metadata": {
        "id": "cKunqZ3qsvxG",
        "colab_type": "code",
        "colab": {
          "base_uri": "https://localhost:8080/",
          "height": 34
        },
        "outputId": "ff281a50-c62a-4b3e-a250-14cb29811850"
      },
      "source": [
        "l[2][1]"
      ],
      "execution_count": 38,
      "outputs": [
        {
          "output_type": "execute_result",
          "data": {
            "text/plain": [
              "22"
            ]
          },
          "metadata": {
            "tags": []
          },
          "execution_count": 38
        }
      ]
    },
    {
      "cell_type": "markdown",
      "metadata": {
        "id": "DF04ZNb5svxK",
        "colab_type": "text"
      },
      "source": [
        "#### insert() \n",
        "To add an item at the specified index, use the insert() method"
      ]
    },
    {
      "cell_type": "code",
      "metadata": {
        "id": "ztzPOl7fsvxL",
        "colab_type": "code",
        "colab": {
          "base_uri": "https://localhost:8080/",
          "height": 34
        },
        "outputId": "a13b0f82-ea17-4b57-d865-f4337679704e"
      },
      "source": [
        "animals"
      ],
      "execution_count": 39,
      "outputs": [
        {
          "output_type": "execute_result",
          "data": {
            "text/plain": [
              "['Elephant', 'zebra', 'cow', 'lion', 'tiger', 'deer', 'buffalo']"
            ]
          },
          "metadata": {
            "tags": []
          },
          "execution_count": 39
        }
      ]
    },
    {
      "cell_type": "code",
      "metadata": {
        "id": "4WWaCemisvxS",
        "colab_type": "code",
        "colab": {}
      },
      "source": [
        "animals.insert(1,23)"
      ],
      "execution_count": 40,
      "outputs": []
    },
    {
      "cell_type": "code",
      "metadata": {
        "id": "2r-F5aVosvxX",
        "colab_type": "code",
        "colab": {
          "base_uri": "https://localhost:8080/",
          "height": 34
        },
        "outputId": "7ae0097e-84f0-45c8-ae19-0a4f91c15a0d"
      },
      "source": [
        "animals"
      ],
      "execution_count": 41,
      "outputs": [
        {
          "output_type": "execute_result",
          "data": {
            "text/plain": [
              "['Elephant', 23, 'zebra', 'cow', 'lion', 'tiger', 'deer', 'buffalo']"
            ]
          },
          "metadata": {
            "tags": []
          },
          "execution_count": 41
        }
      ]
    },
    {
      "cell_type": "code",
      "metadata": {
        "id": "nHWtgT5lsvxj",
        "colab_type": "code",
        "colab": {}
      },
      "source": [
        "animals.insert(5,\"crocodile\")"
      ],
      "execution_count": 42,
      "outputs": []
    },
    {
      "cell_type": "code",
      "metadata": {
        "id": "jp_er6ZPsvxn",
        "colab_type": "code",
        "colab": {
          "base_uri": "https://localhost:8080/",
          "height": 170
        },
        "outputId": "c3ab9403-c1b9-461d-86ce-d3e6d237c2a1"
      },
      "source": [
        "animals"
      ],
      "execution_count": 43,
      "outputs": [
        {
          "output_type": "execute_result",
          "data": {
            "text/plain": [
              "['Elephant',\n",
              " 23,\n",
              " 'zebra',\n",
              " 'cow',\n",
              " 'lion',\n",
              " 'crocodile',\n",
              " 'tiger',\n",
              " 'deer',\n",
              " 'buffalo']"
            ]
          },
          "metadata": {
            "tags": []
          },
          "execution_count": 43
        }
      ]
    },
    {
      "cell_type": "markdown",
      "metadata": {
        "id": "WKTiybJysvx0",
        "colab_type": "text"
      },
      "source": [
        "#### extend() \n",
        "method, which purpose is to add elements from one list to another list"
      ]
    },
    {
      "cell_type": "code",
      "metadata": {
        "id": "ITLgl2y4svx1",
        "colab_type": "code",
        "colab": {}
      },
      "source": [
        "l1 = [1,2,3]\n",
        "l2 = ['a','b','c']\n",
        "\n",
        "l1.extend(l2)"
      ],
      "execution_count": 44,
      "outputs": []
    },
    {
      "cell_type": "code",
      "metadata": {
        "id": "iQjQf3JPsvx5",
        "colab_type": "code",
        "colab": {
          "base_uri": "https://localhost:8080/",
          "height": 34
        },
        "outputId": "fecaab82-9ed0-4b0b-ddc5-35524f234287"
      },
      "source": [
        "l1"
      ],
      "execution_count": 45,
      "outputs": [
        {
          "output_type": "execute_result",
          "data": {
            "text/plain": [
              "[1, 2, 3, 'a', 'b', 'c']"
            ]
          },
          "metadata": {
            "tags": []
          },
          "execution_count": 45
        }
      ]
    },
    {
      "cell_type": "code",
      "metadata": {
        "id": "QA01lmwZsvyB",
        "colab_type": "code",
        "colab": {
          "base_uri": "https://localhost:8080/",
          "height": 34
        },
        "outputId": "a7d7b1d1-1a13-43b6-c305-9d53a491a3d9"
      },
      "source": [
        "l2"
      ],
      "execution_count": 46,
      "outputs": [
        {
          "output_type": "execute_result",
          "data": {
            "text/plain": [
              "['a', 'b', 'c']"
            ]
          },
          "metadata": {
            "tags": []
          },
          "execution_count": 46
        }
      ]
    },
    {
      "cell_type": "code",
      "metadata": {
        "id": "HC-HYUORsvyH",
        "colab_type": "code",
        "colab": {}
      },
      "source": [
        "l2.extend(l1)"
      ],
      "execution_count": 47,
      "outputs": []
    },
    {
      "cell_type": "code",
      "metadata": {
        "id": "5D-FQHpNsvyM",
        "colab_type": "code",
        "colab": {
          "base_uri": "https://localhost:8080/",
          "height": 34
        },
        "outputId": "e27d55f5-f094-4ac4-8a5e-4ea70f8c5bd1"
      },
      "source": [
        "l2"
      ],
      "execution_count": 48,
      "outputs": [
        {
          "output_type": "execute_result",
          "data": {
            "text/plain": [
              "['a', 'b', 'c', 1, 2, 3, 'a', 'b', 'c']"
            ]
          },
          "metadata": {
            "tags": []
          },
          "execution_count": 48
        }
      ]
    },
    {
      "cell_type": "markdown",
      "metadata": {
        "id": "zaauk-MdsvyS",
        "colab_type": "text"
      },
      "source": [
        "####  sort()\n",
        "Sorts the list"
      ]
    },
    {
      "cell_type": "code",
      "metadata": {
        "id": "OFHCFqIUsvyT",
        "colab_type": "code",
        "colab": {
          "base_uri": "https://localhost:8080/",
          "height": 34
        },
        "outputId": "16c99627-85b4-461c-f0ad-250ea54eb5ac"
      },
      "source": [
        "num = [2,5,1,7,5,8,87,45,33,0]\n",
        "\n",
        "num.sort()\n",
        "num\n",
        "\n",
        "# by default assending order"
      ],
      "execution_count": 49,
      "outputs": [
        {
          "output_type": "execute_result",
          "data": {
            "text/plain": [
              "[0, 1, 2, 5, 5, 7, 8, 33, 45, 87]"
            ]
          },
          "metadata": {
            "tags": []
          },
          "execution_count": 49
        }
      ]
    },
    {
      "cell_type": "code",
      "metadata": {
        "id": "iUh7VDklsvyW",
        "colab_type": "code",
        "colab": {
          "base_uri": "https://localhost:8080/",
          "height": 34
        },
        "outputId": "51e2e1cc-b1e4-43b7-d646-db68b7297356"
      },
      "source": [
        "n1 = [2,4,7,2,0]\n",
        "n1.sort(reverse = True)\n",
        "\n",
        "n1"
      ],
      "execution_count": 50,
      "outputs": [
        {
          "output_type": "execute_result",
          "data": {
            "text/plain": [
              "[7, 4, 2, 2, 0]"
            ]
          },
          "metadata": {
            "tags": []
          },
          "execution_count": 50
        }
      ]
    },
    {
      "cell_type": "code",
      "metadata": {
        "id": "dRya5Sa6svyZ",
        "colab_type": "code",
        "colab": {
          "base_uri": "https://localhost:8080/",
          "height": 34
        },
        "outputId": "8b4d3833-cb56-46fc-8c15-bee422be5d40"
      },
      "source": [
        "num[::-1]"
      ],
      "execution_count": 51,
      "outputs": [
        {
          "output_type": "execute_result",
          "data": {
            "text/plain": [
              "[87, 45, 33, 8, 7, 5, 5, 2, 1, 0]"
            ]
          },
          "metadata": {
            "tags": []
          },
          "execution_count": 51
        }
      ]
    },
    {
      "cell_type": "code",
      "metadata": {
        "id": "IPU7q6TFsvyd",
        "colab_type": "code",
        "colab": {
          "base_uri": "https://localhost:8080/",
          "height": 34
        },
        "outputId": "ec17f0ee-f43f-4a8e-a4ad-be09b3cb8bd1"
      },
      "source": [
        "l1 = ['a','asdf','jfhhjks']\n",
        "l1.sort()\n",
        "l1"
      ],
      "execution_count": 52,
      "outputs": [
        {
          "output_type": "execute_result",
          "data": {
            "text/plain": [
              "['a', 'asdf', 'jfhhjks']"
            ]
          },
          "metadata": {
            "tags": []
          },
          "execution_count": 52
        }
      ]
    },
    {
      "cell_type": "code",
      "metadata": {
        "id": "Tt22jI9jsvyo",
        "colab_type": "code",
        "colab": {}
      },
      "source": [
        ""
      ],
      "execution_count": 52,
      "outputs": []
    },
    {
      "cell_type": "markdown",
      "metadata": {
        "id": "vf__S_Fosvyz",
        "colab_type": "text"
      },
      "source": [
        "####  reverse()\n",
        "Reverses the order of the list\n"
      ]
    },
    {
      "cell_type": "code",
      "metadata": {
        "id": "06vtozpIsvy0",
        "colab_type": "code",
        "colab": {
          "base_uri": "https://localhost:8080/",
          "height": 34
        },
        "outputId": "ae7a0056-f320-47d0-a656-0d53af54946c"
      },
      "source": [
        "list12 =[\"saaaa\",\"paaaaaaaaaa\",\"tttttta\",54,2,24,6,4.8]\n",
        "\n",
        "list12.reverse()\n",
        "list12"
      ],
      "execution_count": 53,
      "outputs": [
        {
          "output_type": "execute_result",
          "data": {
            "text/plain": [
              "[4.8, 6, 24, 2, 54, 'tttttta', 'paaaaaaaaaa', 'saaaa']"
            ]
          },
          "metadata": {
            "tags": []
          },
          "execution_count": 53
        }
      ]
    },
    {
      "cell_type": "markdown",
      "metadata": {
        "id": "IiARfC7hsvy5",
        "colab_type": "text"
      },
      "source": [
        "####  sum()\n"
      ]
    },
    {
      "cell_type": "code",
      "metadata": {
        "id": "Nww3OzAwsvy7",
        "colab_type": "code",
        "colab": {
          "base_uri": "https://localhost:8080/",
          "height": 34
        },
        "outputId": "b16e49e2-0ede-4fbe-c398-72a6ef9ff667"
      },
      "source": [
        "num2 =[1,2,7,8,6,8,9,5]\n",
        "sum(num2)\n"
      ],
      "execution_count": 54,
      "outputs": [
        {
          "output_type": "execute_result",
          "data": {
            "text/plain": [
              "46"
            ]
          },
          "metadata": {
            "tags": []
          },
          "execution_count": 54
        }
      ]
    },
    {
      "cell_type": "markdown",
      "metadata": {
        "id": "bl-WvZdAsvzB",
        "colab_type": "text"
      },
      "source": [
        "#### pop()\n",
        "Removes the element at the specified position"
      ]
    },
    {
      "cell_type": "code",
      "metadata": {
        "id": "rxv7UDOUsvzF",
        "colab_type": "code",
        "colab": {
          "base_uri": "https://localhost:8080/",
          "height": 35
        },
        "outputId": "44b01450-c754-44f3-d157-81859e329b99"
      },
      "source": [
        "num3 =[4,5,6,7,8,9,5,5,\"sapna\"]\n",
        "num3.pop()"
      ],
      "execution_count": 55,
      "outputs": [
        {
          "output_type": "execute_result",
          "data": {
            "application/vnd.google.colaboratory.intrinsic": {
              "type": "string"
            },
            "text/plain": [
              "'sapna'"
            ]
          },
          "metadata": {
            "tags": []
          },
          "execution_count": 55
        }
      ]
    },
    {
      "cell_type": "code",
      "metadata": {
        "id": "kFiPm2NUsvzM",
        "colab_type": "code",
        "colab": {
          "base_uri": "https://localhost:8080/",
          "height": 34
        },
        "outputId": "5fd89e8f-ac46-4537-de11-d539b9dfba12"
      },
      "source": [
        "num3"
      ],
      "execution_count": 56,
      "outputs": [
        {
          "output_type": "execute_result",
          "data": {
            "text/plain": [
              "[4, 5, 6, 7, 8, 9, 5, 5]"
            ]
          },
          "metadata": {
            "tags": []
          },
          "execution_count": 56
        }
      ]
    },
    {
      "cell_type": "code",
      "metadata": {
        "id": "taqJAmAAsvzS",
        "colab_type": "code",
        "colab": {
          "base_uri": "https://localhost:8080/",
          "height": 34
        },
        "outputId": "6e528cc9-dbcd-45a0-c0e0-6bb176748a18"
      },
      "source": [
        "num3.pop(2)"
      ],
      "execution_count": 57,
      "outputs": [
        {
          "output_type": "execute_result",
          "data": {
            "text/plain": [
              "6"
            ]
          },
          "metadata": {
            "tags": []
          },
          "execution_count": 57
        }
      ]
    },
    {
      "cell_type": "code",
      "metadata": {
        "id": "3I0YiO8zDB1Q",
        "colab_type": "code",
        "colab": {}
      },
      "source": [
        "# reverse a list using pop and append method\n",
        "\n",
        "l = [2,45,'S',32,77,65,'sad','A',765,86,'D']\n",
        "new = []\n",
        "def my_reverse(List):\n",
        "  for i in range(len(List)):\n",
        "    ele = List.pop()\n",
        "    new.append(ele)\n",
        "  return new  \n",
        "\n"
      ],
      "execution_count": 58,
      "outputs": []
    },
    {
      "cell_type": "code",
      "metadata": {
        "id": "QgSnqNY4ELUR",
        "colab_type": "code",
        "colab": {
          "base_uri": "https://localhost:8080/",
          "height": 34
        },
        "outputId": "ee6f1182-dc07-4f38-db27-f2bd43dfbfa0"
      },
      "source": [
        "my_reverse(l)"
      ],
      "execution_count": 59,
      "outputs": [
        {
          "output_type": "execute_result",
          "data": {
            "text/plain": [
              "['D', 86, 765, 'A', 'sad', 65, 77, 32, 'S', 45, 2]"
            ]
          },
          "metadata": {
            "tags": []
          },
          "execution_count": 59
        }
      ]
    },
    {
      "cell_type": "markdown",
      "metadata": {
        "id": "1MUY8zNMsvza",
        "colab_type": "text"
      },
      "source": [
        "####  max() & min()\n"
      ]
    },
    {
      "cell_type": "code",
      "metadata": {
        "id": "mRf-tn7gsvzb",
        "colab_type": "code",
        "colab": {
          "base_uri": "https://localhost:8080/",
          "height": 34
        },
        "outputId": "3c90084d-6a86-4451-fcbe-400256793c5e"
      },
      "source": [
        "num4 =[7874,6541,2453,6547,56.362,451.254]\n",
        "max(num4)"
      ],
      "execution_count": 60,
      "outputs": [
        {
          "output_type": "execute_result",
          "data": {
            "text/plain": [
              "7874"
            ]
          },
          "metadata": {
            "tags": []
          },
          "execution_count": 60
        }
      ]
    },
    {
      "cell_type": "code",
      "metadata": {
        "id": "PuVCMWyCsvzg",
        "colab_type": "code",
        "colab": {
          "base_uri": "https://localhost:8080/",
          "height": 34
        },
        "outputId": "7ad41b7d-84ee-4599-92de-0a6b36939888"
      },
      "source": [
        "min(num4)"
      ],
      "execution_count": 61,
      "outputs": [
        {
          "output_type": "execute_result",
          "data": {
            "text/plain": [
              "56.362"
            ]
          },
          "metadata": {
            "tags": []
          },
          "execution_count": 61
        }
      ]
    },
    {
      "cell_type": "markdown",
      "metadata": {
        "id": "cIjlQPiGsvzk",
        "colab_type": "text"
      },
      "source": [
        "#### remove()\n",
        "The remove() method removes the first occurrence of the element with the specified value."
      ]
    },
    {
      "cell_type": "code",
      "metadata": {
        "id": "ptTURLYtsvzl",
        "colab_type": "code",
        "colab": {
          "base_uri": "https://localhost:8080/",
          "height": 34
        },
        "outputId": "75f8c426-dc47-4c53-ecaa-5a11524fadc5"
      },
      "source": [
        "sapu =[\"sourav\",\"ram\",\"golu\",\"ladoo\",\"peda\",\"golu\",\"golu\"]\n",
        "sapu.remove(sapu[2])\n",
        "sapu"
      ],
      "execution_count": 62,
      "outputs": [
        {
          "output_type": "execute_result",
          "data": {
            "text/plain": [
              "['sourav', 'ram', 'ladoo', 'peda', 'golu', 'golu']"
            ]
          },
          "metadata": {
            "tags": []
          },
          "execution_count": 62
        }
      ]
    },
    {
      "cell_type": "code",
      "metadata": {
        "id": "SlE4-m7Nsvzq",
        "colab_type": "code",
        "colab": {
          "base_uri": "https://localhost:8080/",
          "height": 34
        },
        "outputId": "b671eb34-d025-43cb-8450-381dd98dc67a"
      },
      "source": [
        "l = [1,2,3,'sda','dfs']\n",
        "l.remove('sda')\n",
        "l"
      ],
      "execution_count": 63,
      "outputs": [
        {
          "output_type": "execute_result",
          "data": {
            "text/plain": [
              "[1, 2, 3, 'dfs']"
            ]
          },
          "metadata": {
            "tags": []
          },
          "execution_count": 63
        }
      ]
    },
    {
      "cell_type": "markdown",
      "metadata": {
        "id": "QfzoeS3bsvzw",
        "colab_type": "text"
      },
      "source": [
        "####  clear()\n",
        "Removes all the elements from the list"
      ]
    },
    {
      "cell_type": "code",
      "metadata": {
        "id": "lw5QDyGTsvzx",
        "colab_type": "code",
        "colab": {
          "base_uri": "https://localhost:8080/",
          "height": 34
        },
        "outputId": "a9894174-5858-4f33-b22c-a7a5a7483f10"
      },
      "source": [
        "l"
      ],
      "execution_count": 64,
      "outputs": [
        {
          "output_type": "execute_result",
          "data": {
            "text/plain": [
              "[1, 2, 3, 'dfs']"
            ]
          },
          "metadata": {
            "tags": []
          },
          "execution_count": 64
        }
      ]
    },
    {
      "cell_type": "code",
      "metadata": {
        "id": "MUdjTLLSsvz2",
        "colab_type": "code",
        "colab": {
          "base_uri": "https://localhost:8080/",
          "height": 34
        },
        "outputId": "45d59511-5d92-43ae-c357-8749fe8a8287"
      },
      "source": [
        "l.clear()\n",
        "l"
      ],
      "execution_count": 65,
      "outputs": [
        {
          "output_type": "execute_result",
          "data": {
            "text/plain": [
              "[]"
            ]
          },
          "metadata": {
            "tags": []
          },
          "execution_count": 65
        }
      ]
    },
    {
      "cell_type": "markdown",
      "metadata": {
        "id": "FgNT43Lhsvz6",
        "colab_type": "text"
      },
      "source": [
        "#### copy()\n",
        "Returns a copy of the list"
      ]
    },
    {
      "cell_type": "code",
      "metadata": {
        "id": "Wqu7cbYzsvz6",
        "colab_type": "code",
        "colab": {
          "base_uri": "https://localhost:8080/",
          "height": 170
        },
        "outputId": "8399b730-a203-4155-fec5-ddcb11cc881c"
      },
      "source": [
        "animals"
      ],
      "execution_count": 66,
      "outputs": [
        {
          "output_type": "execute_result",
          "data": {
            "text/plain": [
              "['Elephant',\n",
              " 23,\n",
              " 'zebra',\n",
              " 'cow',\n",
              " 'lion',\n",
              " 'crocodile',\n",
              " 'tiger',\n",
              " 'deer',\n",
              " 'buffalo']"
            ]
          },
          "metadata": {
            "tags": []
          },
          "execution_count": 66
        }
      ]
    },
    {
      "cell_type": "code",
      "metadata": {
        "id": "XzSzn8HEsvz9",
        "colab_type": "code",
        "colab": {
          "base_uri": "https://localhost:8080/",
          "height": 34
        },
        "outputId": "ec4b768e-cff4-4e5c-bc13-e48c19e5504f"
      },
      "source": [
        "A=animals.copy()\n",
        "print(A)"
      ],
      "execution_count": 67,
      "outputs": [
        {
          "output_type": "stream",
          "text": [
            "['Elephant', 23, 'zebra', 'cow', 'lion', 'crocodile', 'tiger', 'deer', 'buffalo']\n"
          ],
          "name": "stdout"
        }
      ]
    },
    {
      "cell_type": "code",
      "metadata": {
        "id": "x83Jg6fwsv0A",
        "colab_type": "code",
        "colab": {
          "base_uri": "https://localhost:8080/",
          "height": 35
        },
        "outputId": "d9815eee-6399-473c-971e-36d0da17cc41"
      },
      "source": [
        "A.pop()"
      ],
      "execution_count": 68,
      "outputs": [
        {
          "output_type": "execute_result",
          "data": {
            "application/vnd.google.colaboratory.intrinsic": {
              "type": "string"
            },
            "text/plain": [
              "'buffalo'"
            ]
          },
          "metadata": {
            "tags": []
          },
          "execution_count": 68
        }
      ]
    },
    {
      "cell_type": "code",
      "metadata": {
        "id": "3MAhsWv6sv0D",
        "colab_type": "code",
        "colab": {
          "base_uri": "https://localhost:8080/",
          "height": 51
        },
        "outputId": "c9ce4dd9-c36b-4170-cc56-a7333510464a"
      },
      "source": [
        "print(A)\n",
        "print(animals)"
      ],
      "execution_count": 69,
      "outputs": [
        {
          "output_type": "stream",
          "text": [
            "['Elephant', 23, 'zebra', 'cow', 'lion', 'crocodile', 'tiger', 'deer']\n",
            "['Elephant', 23, 'zebra', 'cow', 'lion', 'crocodile', 'tiger', 'deer', 'buffalo']\n"
          ],
          "name": "stdout"
        }
      ]
    },
    {
      "cell_type": "code",
      "metadata": {
        "id": "qS71yWf8sv0J",
        "colab_type": "code",
        "colab": {
          "base_uri": "https://localhost:8080/",
          "height": 51
        },
        "outputId": "1e7bf6be-0227-4154-8c62-24193512f626"
      },
      "source": [
        "l3 =[5,4,2,3,2]\n",
        "a=l3\n",
        "print(a)\n",
        "print(l3)"
      ],
      "execution_count": 70,
      "outputs": [
        {
          "output_type": "stream",
          "text": [
            "[5, 4, 2, 3, 2]\n",
            "[5, 4, 2, 3, 2]\n"
          ],
          "name": "stdout"
        }
      ]
    },
    {
      "cell_type": "code",
      "metadata": {
        "id": "KSFaVktKsv0N",
        "colab_type": "code",
        "colab": {
          "base_uri": "https://localhost:8080/",
          "height": 34
        },
        "outputId": "5d478504-6884-4c46-de34-e6e6b1170741"
      },
      "source": [
        "a.pop()\n",
        "print(a)"
      ],
      "execution_count": 71,
      "outputs": [
        {
          "output_type": "stream",
          "text": [
            "[5, 4, 2, 3]\n"
          ],
          "name": "stdout"
        }
      ]
    },
    {
      "cell_type": "code",
      "metadata": {
        "id": "gGL3SAOisv0Q",
        "colab_type": "code",
        "colab": {
          "base_uri": "https://localhost:8080/",
          "height": 34
        },
        "outputId": "138e1bcb-ce0f-4da0-c242-df8e5d8d2dcd"
      },
      "source": [
        "print(l3)"
      ],
      "execution_count": 72,
      "outputs": [
        {
          "output_type": "stream",
          "text": [
            "[5, 4, 2, 3]\n"
          ],
          "name": "stdout"
        }
      ]
    },
    {
      "cell_type": "markdown",
      "metadata": {
        "id": "TGJAPUS0sv0U",
        "colab_type": "text"
      },
      "source": [
        "#### count()\n",
        "Returns the number of elements with the specified value"
      ]
    },
    {
      "cell_type": "code",
      "metadata": {
        "id": "Zy3z2aEdsv0W",
        "colab_type": "code",
        "colab": {
          "base_uri": "https://localhost:8080/",
          "height": 34
        },
        "outputId": "d52a5738-5e95-4fef-bdf9-3e1a672954aa"
      },
      "source": [
        "num7 =[1,4,4,5,2,3,7,8,9,5,4,4.5,4,5,5,6,6]\n",
        "num7.count(5)"
      ],
      "execution_count": 73,
      "outputs": [
        {
          "output_type": "execute_result",
          "data": {
            "text/plain": [
              "4"
            ]
          },
          "metadata": {
            "tags": []
          },
          "execution_count": 73
        }
      ]
    },
    {
      "cell_type": "markdown",
      "metadata": {
        "id": "UiAYgIQPsv0a",
        "colab_type": "text"
      },
      "source": [
        "### List Comprehension"
      ]
    },
    {
      "cell_type": "code",
      "metadata": {
        "id": "mXDcS-eksv0b",
        "colab_type": "code",
        "colab": {
          "base_uri": "https://localhost:8080/",
          "height": 34
        },
        "outputId": "98dc1fba-4d55-47b8-e87c-4aa4c2d137d4"
      },
      "source": [
        "latters = [i for i in \"Sapna\"]\n",
        "\n",
        "latters"
      ],
      "execution_count": 74,
      "outputs": [
        {
          "output_type": "execute_result",
          "data": {
            "text/plain": [
              "['S', 'a', 'p', 'n', 'a']"
            ]
          },
          "metadata": {
            "tags": []
          },
          "execution_count": 74
        }
      ]
    },
    {
      "cell_type": "code",
      "metadata": {
        "id": "o1q-7fghsv0f",
        "colab_type": "code",
        "colab": {
          "base_uri": "https://localhost:8080/",
          "height": 34
        },
        "outputId": "e97984d8-9bae-4659-c645-2778bf331723"
      },
      "source": [
        "l1 = [1,2,3,4]\n",
        "l2 = [5,6,7,8]\n",
        "\n",
        "result =[i*j for i in l1 for j in l2]\n",
        "result"
      ],
      "execution_count": 75,
      "outputs": [
        {
          "output_type": "execute_result",
          "data": {
            "text/plain": [
              "[5, 6, 7, 8, 10, 12, 14, 16, 15, 18, 21, 24, 20, 24, 28, 32]"
            ]
          },
          "metadata": {
            "tags": []
          },
          "execution_count": 75
        }
      ]
    },
    {
      "cell_type": "code",
      "metadata": {
        "id": "dbBpYTwUu9Cr",
        "colab_type": "code",
        "colab": {
          "base_uri": "https://localhost:8080/",
          "height": 34
        },
        "outputId": "34e03451-f351-4f97-c824-9c8bd89e3912"
      },
      "source": [
        "lst = [1,2,2,5,7,'djssa',5,8,3,9,'fj','sdh','asdh','s']\n",
        "\n",
        "[i for i in lst if type(i) == str]"
      ],
      "execution_count": 76,
      "outputs": [
        {
          "output_type": "execute_result",
          "data": {
            "text/plain": [
              "['djssa', 'fj', 'sdh', 'asdh', 's']"
            ]
          },
          "metadata": {
            "tags": []
          },
          "execution_count": 76
        }
      ]
    },
    {
      "cell_type": "code",
      "metadata": {
        "id": "tTNG7K-yvJzE",
        "colab_type": "code",
        "colab": {
          "base_uri": "https://localhost:8080/",
          "height": 51
        },
        "outputId": "09bac228-f8c6-42f4-a650-15d7a9750f2b"
      },
      "source": [
        "l = [1,24,43,24,5,6,7,89,53,32,3,322,]\n",
        "even = [i for i in l if i%2==0]\n",
        "odd = [i for i in l if i%2!=0]\n",
        "\n",
        "print('even numbers list',even)\n",
        "print('odd numbers list',odd)"
      ],
      "execution_count": 77,
      "outputs": [
        {
          "output_type": "stream",
          "text": [
            "even numbers list [24, 24, 6, 32, 322]\n",
            "odd numbers list [1, 43, 5, 7, 89, 53, 3]\n"
          ],
          "name": "stdout"
        }
      ]
    },
    {
      "cell_type": "markdown",
      "metadata": {
        "id": "zkupcpddsv0l",
        "colab_type": "text"
      },
      "source": [
        "### List Programs"
      ]
    },
    {
      "cell_type": "markdown",
      "metadata": {
        "id": "k0qHRnc20zO3",
        "colab_type": "text"
      },
      "source": [
        " Q) Write a Python program to sum all the items in a list"
      ]
    },
    {
      "cell_type": "code",
      "metadata": {
        "id": "WKdcyyEW0yCX",
        "colab_type": "code",
        "colab": {
          "base_uri": "https://localhost:8080/",
          "height": 68
        },
        "outputId": "1befff74-ba11-4f99-8b4f-0b3c1504049a"
      },
      "source": [
        "lst =input('Enter numbers seperated by space  - ').split()\n",
        "print(lst)\n",
        "l = []\n",
        "sum = 0\n",
        "for i in range(len(lst)):\n",
        "  sum = sum + int(lst[i])\n",
        "\n",
        "print(sum)"
      ],
      "execution_count": 82,
      "outputs": [
        {
          "output_type": "stream",
          "text": [
            "Enter numbers seperated by space  - 2 3 2 5 6 5 3\n",
            "['2', '3', '2', '5', '6', '5', '3']\n",
            "26\n"
          ],
          "name": "stdout"
        }
      ]
    },
    {
      "cell_type": "markdown",
      "metadata": {
        "id": "6Mu2f_n0sv0m",
        "colab_type": "text"
      },
      "source": [
        " Q) To find the square of even number in a list"
      ]
    },
    {
      "cell_type": "code",
      "metadata": {
        "id": "MBOyKmSfsv0n",
        "colab_type": "code",
        "colab": {
          "base_uri": "https://localhost:8080/",
          "height": 102
        },
        "outputId": "8ed5764b-e590-414c-88eb-fd3d883977cb"
      },
      "source": [
        "num = [1,2,3,4,5,6,7,8,9,10]\n",
        "\n",
        "for i in num:\n",
        "    if i%2==0:\n",
        "        print(i**2)\n",
        "        \n",
        "      \n",
        "        "
      ],
      "execution_count": 83,
      "outputs": [
        {
          "output_type": "stream",
          "text": [
            "4\n",
            "16\n",
            "36\n",
            "64\n",
            "100\n"
          ],
          "name": "stdout"
        }
      ]
    },
    {
      "cell_type": "markdown",
      "metadata": {
        "id": "zRjOAdkesv0s",
        "colab_type": "text"
      },
      "source": [
        "\n",
        "Q. Find the number is even or odd\n"
      ]
    },
    {
      "cell_type": "code",
      "metadata": {
        "id": "0w5YoD2jsv0u",
        "colab_type": "code",
        "colab": {
          "base_uri": "https://localhost:8080/",
          "height": 51
        },
        "outputId": "cd4c80e9-62d0-4e7e-e33e-15f104dc13dd"
      },
      "source": [
        "num = int(input(\"enter a no \"))\n",
        "\n",
        "if int(num)%2 == 0:\n",
        "    print(\"%d is even number\" %(num))\n",
        "else:\n",
        "    print(\"%d id odd number \" %(num))\n",
        "        "
      ],
      "execution_count": 84,
      "outputs": [
        {
          "output_type": "stream",
          "text": [
            "enter a no 4\n",
            "4 is even number\n"
          ],
          "name": "stdout"
        }
      ]
    },
    {
      "cell_type": "markdown",
      "metadata": {
        "id": "zhJYiqh-4_Yy",
        "colab_type": "text"
      },
      "source": [
        "Q. Write a Python program to multiplies all the items in a list"
      ]
    },
    {
      "cell_type": "code",
      "metadata": {
        "id": "dceq-mcH5tlA",
        "colab_type": "code",
        "colab": {
          "base_uri": "https://localhost:8080/",
          "height": 34
        },
        "outputId": "a7150234-bb8e-4593-9cd8-accb83fd11ed"
      },
      "source": [
        "l = [2,4,3,6,9,7]\n",
        "mul = 1\n",
        "for i in l:\n",
        "  mul = mul * i\n",
        "\n",
        "print(mul)  "
      ],
      "execution_count": 85,
      "outputs": [
        {
          "output_type": "stream",
          "text": [
            "9072\n"
          ],
          "name": "stdout"
        }
      ]
    },
    {
      "cell_type": "markdown",
      "metadata": {
        "id": "lKstx3Ke6fXZ",
        "colab_type": "text"
      },
      "source": [
        "Q) Write a Python program to get the largest number from a list."
      ]
    },
    {
      "cell_type": "code",
      "metadata": {
        "id": "4ETGJdTW6J89",
        "colab_type": "code",
        "colab": {
          "base_uri": "https://localhost:8080/",
          "height": 34
        },
        "outputId": "ed733897-3f92-49b4-d825-86f9e9a32694"
      },
      "source": [
        "lst = [2,43,5,54,7,6,8766,9,765,5,65,4]\n",
        "\n",
        "max = lst[0]\n",
        "for i in lst:\n",
        "  if max < i:\n",
        "    max = i\n",
        "\n",
        "print('largest number from list %d' %max)"
      ],
      "execution_count": 86,
      "outputs": [
        {
          "output_type": "stream",
          "text": [
            "largest number from list 8766\n"
          ],
          "name": "stdout"
        }
      ]
    },
    {
      "cell_type": "markdown",
      "metadata": {
        "id": "l_Z3Hk2i74HI",
        "colab_type": "text"
      },
      "source": [
        "Q) Write a Python program to count the number of strings where the string length is 2 or more and the first and last character are same from a given list of strings.\n",
        "\n",
        "Sample List : ['abc', 'xyz', 'aba', '1221']\n",
        "\n",
        "Expected Result : 2"
      ]
    },
    {
      "cell_type": "code",
      "metadata": {
        "id": "rmHQwLbK7D-T",
        "colab_type": "code",
        "colab": {
          "base_uri": "https://localhost:8080/",
          "height": 34
        },
        "outputId": "7e7fcaef-a662-4984-f8ab-8707f22412ad"
      },
      "source": [
        "saml = ['asas','ds','4323','432','616','sdas','yeyey']\n",
        "\n",
        "count = 0\n",
        "for word in saml:\n",
        "  if (len(word) >= 2 and word[0] == word[-1]):\n",
        "    count += 1\n",
        "print('There is %d strings where the string length is 2 or more and the first and last character are same'%count)    "
      ],
      "execution_count": 87,
      "outputs": [
        {
          "output_type": "stream",
          "text": [
            "There is 3 strings where the string length is 2 or more and the first and last character are same\n"
          ],
          "name": "stdout"
        }
      ]
    },
    {
      "cell_type": "markdown",
      "metadata": {
        "id": "6xTsHgFz-LcD",
        "colab_type": "text"
      },
      "source": [
        "Q) Write a Python program to remove duplicates from a list."
      ]
    },
    {
      "cell_type": "code",
      "metadata": {
        "id": "qcGG3MuZ87LA",
        "colab_type": "code",
        "colab": {
          "base_uri": "https://localhost:8080/",
          "height": 34
        },
        "outputId": "6e3e260f-407e-4813-b0ca-3a495a4dd023"
      },
      "source": [
        "l = [1,2,1,3,5,4,6,4,7,8,6,9,6,5,4,5,6,7]\n",
        "\n",
        "r = []\n",
        "for i in l:\n",
        "  if i not in r:\n",
        "    r.append(i)\n",
        "\n",
        "r"
      ],
      "execution_count": 88,
      "outputs": [
        {
          "output_type": "execute_result",
          "data": {
            "text/plain": [
              "[1, 2, 3, 5, 4, 6, 7, 8, 9]"
            ]
          },
          "metadata": {
            "tags": []
          },
          "execution_count": 88
        }
      ]
    },
    {
      "cell_type": "markdown",
      "metadata": {
        "id": "uJV8EmFx-55s",
        "colab_type": "text"
      },
      "source": [
        " Q) Write a Python program to check a list is empty or not."
      ]
    },
    {
      "cell_type": "code",
      "metadata": {
        "id": "lhqQHCof-n0y",
        "colab_type": "code",
        "colab": {
          "base_uri": "https://localhost:8080/",
          "height": 34
        },
        "outputId": "5665e594-1789-44d8-dc78-d383e0e5e2a2"
      },
      "source": [
        "l = []\n",
        "\n",
        "if len(l) == 0:\n",
        "  print('empty list')\n",
        "\n",
        "else:\n",
        "  print('list is not empty')  "
      ],
      "execution_count": 89,
      "outputs": [
        {
          "output_type": "stream",
          "text": [
            "empty list\n"
          ],
          "name": "stdout"
        }
      ]
    },
    {
      "cell_type": "markdown",
      "metadata": {
        "id": "stblv-t4AAXI",
        "colab_type": "text"
      },
      "source": [
        "Q) Write a Python program to clone or copy a list."
      ]
    },
    {
      "cell_type": "code",
      "metadata": {
        "id": "ohRywJ8z_vxh",
        "colab_type": "code",
        "colab": {
          "base_uri": "https://localhost:8080/",
          "height": 34
        },
        "outputId": "15bb2f21-d794-4a64-871d-1b8fddca56cf"
      },
      "source": [
        "ol = [9,4,2,376,5,8]\n",
        "cl = []\n",
        "for i in ol:\n",
        "  cl.append(i)\n",
        "cl  "
      ],
      "execution_count": 90,
      "outputs": [
        {
          "output_type": "execute_result",
          "data": {
            "text/plain": [
              "[9, 4, 2, 376, 5, 8]"
            ]
          },
          "metadata": {
            "tags": []
          },
          "execution_count": 90
        }
      ]
    },
    {
      "cell_type": "markdown",
      "metadata": {
        "id": "Ydfdm8FaAlNM",
        "colab_type": "text"
      },
      "source": [
        "Q) Write a Python program to find the list of words that are longer than n from a given list of words."
      ]
    },
    {
      "cell_type": "code",
      "metadata": {
        "id": "6j2XsRn4ATur",
        "colab_type": "code",
        "colab": {
          "base_uri": "https://localhost:8080/",
          "height": 68
        },
        "outputId": "b15538eb-b379-4dac-9d85-5a7723eb2e73"
      },
      "source": [
        "l = ['a','ab','absbd','jgdser','dhf','fkff','sdkjjfke']\n",
        "print(l)\n",
        "num = int(input('Enter a number : '))\n",
        "l1 = []\n",
        "for i in l:\n",
        "  if len(i)>num:\n",
        "    l1.append(i)\n",
        "l1"
      ],
      "execution_count": 91,
      "outputs": [
        {
          "output_type": "stream",
          "text": [
            "['a', 'ab', 'absbd', 'jgdser', 'dhf', 'fkff', 'sdkjjfke']\n",
            "Enter a number : 5\n"
          ],
          "name": "stdout"
        },
        {
          "output_type": "execute_result",
          "data": {
            "text/plain": [
              "['jgdser', 'sdkjjfke']"
            ]
          },
          "metadata": {
            "tags": []
          },
          "execution_count": 91
        }
      ]
    },
    {
      "cell_type": "markdown",
      "metadata": {
        "id": "ziXYgL4pCmY5",
        "colab_type": "text"
      },
      "source": [
        "Q) Write a Python function that takes two lists and returns True if they have at least one common member."
      ]
    },
    {
      "cell_type": "code",
      "metadata": {
        "id": "_aZjWq0zBFTJ",
        "colab_type": "code",
        "colab": {}
      },
      "source": [
        "def fun(l1, l2):\n",
        "  for i in range(len(l1)):\n",
        "    for j in range(len(l2)):\n",
        "      if l1[i] == l2[j]:\n",
        "        return True \n",
        "      "
      ],
      "execution_count": 104,
      "outputs": []
    },
    {
      "cell_type": "code",
      "metadata": {
        "id": "_L_MNQdOXvid",
        "colab_type": "code",
        "colab": {}
      },
      "source": [
        "fun([1,2,3,4],[5,6,7,8])"
      ],
      "execution_count": 105,
      "outputs": []
    },
    {
      "cell_type": "code",
      "metadata": {
        "id": "YWvJVZtzX8mi",
        "colab_type": "code",
        "colab": {
          "base_uri": "https://localhost:8080/",
          "height": 34
        },
        "outputId": "f370bb9b-698a-45c0-cd60-d29bfddf89bd"
      },
      "source": [
        "fun([1,2,3,4],[5,3,7,8])"
      ],
      "execution_count": 106,
      "outputs": [
        {
          "output_type": "execute_result",
          "data": {
            "text/plain": [
              "True"
            ]
          },
          "metadata": {
            "tags": []
          },
          "execution_count": 106
        }
      ]
    },
    {
      "cell_type": "code",
      "metadata": {
        "id": "xTM7ejHBYRJW",
        "colab_type": "code",
        "colab": {
          "base_uri": "https://localhost:8080/",
          "height": 34
        },
        "outputId": "4c538de2-5e80-408e-9a88-878574d0a9f8"
      },
      "source": [
        "fun([1,2,3,4],[4,6,7,8])"
      ],
      "execution_count": 107,
      "outputs": [
        {
          "output_type": "execute_result",
          "data": {
            "text/plain": [
              "True"
            ]
          },
          "metadata": {
            "tags": []
          },
          "execution_count": 107
        }
      ]
    },
    {
      "cell_type": "markdown",
      "metadata": {
        "id": "Th50iIXtGZ47",
        "colab_type": "text"
      },
      "source": [
        "Q) Write a Python program to print a specified list after removing the 0th, 4th and 5th elements. \n",
        "\n",
        "Sample List : ['Red', 'Green', 'White', 'Black', 'Pink', 'Yellow']\n",
        "\n",
        "Expected Output : ['Green', 'White', 'Black']"
      ]
    },
    {
      "cell_type": "code",
      "metadata": {
        "id": "ynza6H16ceHe",
        "colab_type": "code",
        "colab": {
          "base_uri": "https://localhost:8080/",
          "height": 34
        },
        "outputId": "c19cd5fa-02bc-4132-d53d-74966cd6009a"
      },
      "source": [
        "l= ['Red', 'Green', 'White', 'Black', 'Pink', 'Yellow']\n",
        "l= [x for (i,x) in enumerate(l) if i not in (0,4,5)]\n",
        "   \n",
        "l\n"
      ],
      "execution_count": 108,
      "outputs": [
        {
          "output_type": "execute_result",
          "data": {
            "text/plain": [
              "['Green', 'White', 'Black']"
            ]
          },
          "metadata": {
            "tags": []
          },
          "execution_count": 108
        }
      ]
    },
    {
      "cell_type": "code",
      "metadata": {
        "id": "eixMwouuc0Nv",
        "colab_type": "code",
        "colab": {
          "base_uri": "https://localhost:8080/",
          "height": 153
        },
        "outputId": "df0123d0-8450-4844-f327-db99c8e7a045"
      },
      "source": [
        "lw = [1,82,34,4,5,6,7,8]\n",
        "for (i,x) in enumerate(lw):\n",
        "  print(i)\n",
        "  #print(x)\n",
        "   \n",
        "\n"
      ],
      "execution_count": 109,
      "outputs": [
        {
          "output_type": "stream",
          "text": [
            "0\n",
            "1\n",
            "2\n",
            "3\n",
            "4\n",
            "5\n",
            "6\n",
            "7\n"
          ],
          "name": "stdout"
        }
      ]
    },
    {
      "cell_type": "markdown",
      "metadata": {
        "id": "sLut9zB5iz0e",
        "colab_type": "text"
      },
      "source": [
        "Q) Write a Python program to generate a 3 * 4 * 6 3D array whose each element is *.\n",
        "\n"
      ]
    },
    {
      "cell_type": "code",
      "metadata": {
        "id": "ypv6wwJkgnFP",
        "colab_type": "code",
        "colab": {
          "base_uri": "https://localhost:8080/",
          "height": 221
        },
        "outputId": "886d8022-b01c-43af-c526-d8cd20b336f1"
      },
      "source": [
        "array_3d = [[['*' for col in range(6)]for col in range(4)]for row in range(3)]\n",
        "array_3d"
      ],
      "execution_count": 110,
      "outputs": [
        {
          "output_type": "execute_result",
          "data": {
            "text/plain": [
              "[[['*', '*', '*', '*', '*', '*'],\n",
              "  ['*', '*', '*', '*', '*', '*'],\n",
              "  ['*', '*', '*', '*', '*', '*'],\n",
              "  ['*', '*', '*', '*', '*', '*']],\n",
              " [['*', '*', '*', '*', '*', '*'],\n",
              "  ['*', '*', '*', '*', '*', '*'],\n",
              "  ['*', '*', '*', '*', '*', '*'],\n",
              "  ['*', '*', '*', '*', '*', '*']],\n",
              " [['*', '*', '*', '*', '*', '*'],\n",
              "  ['*', '*', '*', '*', '*', '*'],\n",
              "  ['*', '*', '*', '*', '*', '*'],\n",
              "  ['*', '*', '*', '*', '*', '*']]]"
            ]
          },
          "metadata": {
            "tags": []
          },
          "execution_count": 110
        }
      ]
    },
    {
      "cell_type": "markdown",
      "metadata": {
        "id": "rPhPK78MEu3z",
        "colab_type": "text"
      },
      "source": [
        "Q) Write a Python program to print the numbers of a specified list after removing even numbers from it."
      ]
    },
    {
      "cell_type": "code",
      "metadata": {
        "id": "J081f7geGGyv",
        "colab_type": "code",
        "colab": {
          "base_uri": "https://localhost:8080/",
          "height": 34
        },
        "outputId": "f823d71e-f67e-4cb1-a9ff-c13ead416875"
      },
      "source": [
        "lst = [0,1,2,3,4,5,6,7,8,9,10,11,12,13]\n",
        "l = []\n",
        "for i in lst:\n",
        "  if i%2 != 0:\n",
        "    l.append(i)\n",
        "\n",
        "l"
      ],
      "execution_count": 111,
      "outputs": [
        {
          "output_type": "execute_result",
          "data": {
            "text/plain": [
              "[1, 3, 5, 7, 9, 11, 13]"
            ]
          },
          "metadata": {
            "tags": []
          },
          "execution_count": 111
        }
      ]
    },
    {
      "cell_type": "code",
      "metadata": {
        "id": "RNDWDkTHGVoZ",
        "colab_type": "code",
        "colab": {
          "base_uri": "https://localhost:8080/",
          "height": 34
        },
        "outputId": "534212fe-da9a-40b9-8265-8dd45e65f804"
      },
      "source": [
        "# using list comprihension\n",
        "lst = [0,1,2,3,4,5,6,7,8,9,10,11,12,13]\n",
        "result = [i for i in lst if i%2 != 0]\n",
        "result"
      ],
      "execution_count": 112,
      "outputs": [
        {
          "output_type": "execute_result",
          "data": {
            "text/plain": [
              "[1, 3, 5, 7, 9, 11, 13]"
            ]
          },
          "metadata": {
            "tags": []
          },
          "execution_count": 112
        }
      ]
    },
    {
      "cell_type": "markdown",
      "metadata": {
        "id": "XF-j4xylHfew",
        "colab_type": "text"
      },
      "source": [
        "Q) Write a Python program to shuffle and print a specified list.\n",
        "\n"
      ]
    },
    {
      "cell_type": "code",
      "metadata": {
        "id": "aHP_pohjG44c",
        "colab_type": "code",
        "colab": {
          "base_uri": "https://localhost:8080/",
          "height": 34
        },
        "outputId": "aed30e6e-167b-497a-bf97-6071ed466b25"
      },
      "source": [
        "from random import shuffle\n",
        "fruits = ['mango', 'banana', 'graps', 'apple', 'papaya', 'orange']\n",
        "shuffle(fruits)\n",
        "fruits"
      ],
      "execution_count": 113,
      "outputs": [
        {
          "output_type": "execute_result",
          "data": {
            "text/plain": [
              "['apple', 'papaya', 'orange', 'banana', 'graps', 'mango']"
            ]
          },
          "metadata": {
            "tags": []
          },
          "execution_count": 113
        }
      ]
    },
    {
      "cell_type": "code",
      "metadata": {
        "id": "5eZhY_BRIBa0",
        "colab_type": "code",
        "colab": {
          "base_uri": "https://localhost:8080/",
          "height": 34
        },
        "outputId": "3ad82647-74ec-4a50-ceb1-acb122bccf17"
      },
      "source": [
        "num = [1,2,3,4,5,6,7]\n",
        "shuffle(num)\n",
        "num"
      ],
      "execution_count": 114,
      "outputs": [
        {
          "output_type": "execute_result",
          "data": {
            "text/plain": [
              "[6, 3, 5, 7, 2, 4, 1]"
            ]
          },
          "metadata": {
            "tags": []
          },
          "execution_count": 114
        }
      ]
    },
    {
      "cell_type": "code",
      "metadata": {
        "id": "rVf-8sR-TkPK",
        "colab_type": "code",
        "colab": {
          "base_uri": "https://localhost:8080/",
          "height": 34
        },
        "outputId": "8f0432ff-031b-4ca9-a839-572c80c7935c"
      },
      "source": [
        "colors = ['Red', 'Blue', 'Green', 'Black', 'White']\n",
        "num_colors = len(colors)\n",
        "print(\"We have \" + str(num_colors) + \" colors.\")"
      ],
      "execution_count": 115,
      "outputs": [
        {
          "output_type": "stream",
          "text": [
            "We have 5 colors.\n"
          ],
          "name": "stdout"
        }
      ]
    },
    {
      "cell_type": "code",
      "metadata": {
        "id": "Vxu3jY87TkLG",
        "colab_type": "code",
        "colab": {
          "base_uri": "https://localhost:8080/",
          "height": 119
        },
        "outputId": "ab80a2b4-c224-4651-9b2c-401a3ac3f69f"
      },
      "source": [
        "for col in colors:\n",
        " print(\"Welcome, \" + col + \"!\")\n",
        "print(\"Welcome, we're glad to see you all!\")"
      ],
      "execution_count": 116,
      "outputs": [
        {
          "output_type": "stream",
          "text": [
            "Welcome, Red!\n",
            "Welcome, Blue!\n",
            "Welcome, Green!\n",
            "Welcome, Black!\n",
            "Welcome, White!\n",
            "Welcome, we're glad to see you all!\n"
          ],
          "name": "stdout"
        }
      ]
    },
    {
      "cell_type": "markdown",
      "metadata": {
        "id": "96hZjbvhH_rY",
        "colab_type": "text"
      },
      "source": [
        "Q) Take 10 integer inputs from user and store them in a list and print them on screen."
      ]
    },
    {
      "cell_type": "code",
      "metadata": {
        "id": "8osXs-4rTkHK",
        "colab_type": "code",
        "colab": {
          "base_uri": "https://localhost:8080/",
          "height": 221
        },
        "outputId": "43fc4843-5f31-4acc-b782-42d6cc711edd"
      },
      "source": [
        "interger = 10\n",
        "user_list = []\n",
        "print('To create a list of 10 values')\n",
        "while(interger > 0):\n",
        "  num = input('enter list value : ')\n",
        "  user_list.append(num)\n",
        "  interger -= 1\n",
        "\n",
        "print('Your list is ',user_list)  "
      ],
      "execution_count": 117,
      "outputs": [
        {
          "output_type": "stream",
          "text": [
            "To create a list of 10 values\n",
            "enter list value : 2\n",
            "enter list value : 4\n",
            "enter list value : 3\n",
            "enter list value : 6\n",
            "enter list value : 4\n",
            "enter list value : 4\n",
            "enter list value : 3\n",
            "enter list value : 2\n",
            "enter list value : 7\n",
            "enter list value : 6\n",
            "Your list is  ['2', '4', '3', '6', '4', '4', '3', '2', '7', '6']\n"
          ],
          "name": "stdout"
        }
      ]
    }
  ]
}